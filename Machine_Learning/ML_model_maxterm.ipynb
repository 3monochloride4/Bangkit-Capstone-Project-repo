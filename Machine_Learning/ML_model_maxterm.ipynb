{
  "nbformat": 4,
  "nbformat_minor": 0,
  "metadata": {
    "accelerator": "GPU",
    "colab": {
      "name": "ML_model_maxterm.ipynb",
      "provenance": [],
      "collapsed_sections": [],
      "include_colab_link": true
    },
    "kernelspec": {
      "display_name": "Python 3",
      "name": "python3"
    }
  },
  "cells": [
    {
      "cell_type": "markdown",
      "metadata": {
        "id": "view-in-github",
        "colab_type": "text"
      },
      "source": [
        "<a href=\"https://colab.research.google.com/github/3monochloride4/Bangkit-Capstone-Project-repo/blob/main/ML_model_maxterm.ipynb\" target=\"_parent\"><img src=\"https://colab.research.google.com/assets/colab-badge.svg\" alt=\"Open In Colab\"/></a>"
      ]
    },
    {
      "cell_type": "code",
      "metadata": {
        "colab": {
          "base_uri": "https://localhost:8080/"
        },
        "id": "56XEQOGknrAk",
        "outputId": "2b84ec21-fdb5-4104-a192-6c3387b18077"
      },
      "source": [
        "import tensorflow as tf\n",
        "!pip install tensorflowjs"
      ],
      "execution_count": null,
      "outputs": [
        {
          "output_type": "stream",
          "text": [
            "Requirement already satisfied: tensorflowjs in /usr/local/lib/python3.7/dist-packages (3.7.0)\n",
            "Requirement already satisfied: tensorflow-hub<0.13,>=0.7.0; python_version >= \"3\" in /usr/local/lib/python3.7/dist-packages (from tensorflowjs) (0.12.0)\n",
            "Requirement already satisfied: six<2,>=1.12.0 in /usr/local/lib/python3.7/dist-packages (from tensorflowjs) (1.15.0)\n",
            "Requirement already satisfied: tensorflow<3,>=2.1.0 in /usr/local/lib/python3.7/dist-packages (from tensorflowjs) (2.5.0)\n",
            "Requirement already satisfied: numpy>=1.12.0 in /usr/local/lib/python3.7/dist-packages (from tensorflow-hub<0.13,>=0.7.0; python_version >= \"3\"->tensorflowjs) (1.19.5)\n",
            "Requirement already satisfied: protobuf>=3.8.0 in /usr/local/lib/python3.7/dist-packages (from tensorflow-hub<0.13,>=0.7.0; python_version >= \"3\"->tensorflowjs) (3.12.4)\n",
            "Requirement already satisfied: keras-nightly~=2.5.0.dev in /usr/local/lib/python3.7/dist-packages (from tensorflow<3,>=2.1.0->tensorflowjs) (2.5.0.dev2021032900)\n",
            "Requirement already satisfied: wheel~=0.35 in /usr/local/lib/python3.7/dist-packages (from tensorflow<3,>=2.1.0->tensorflowjs) (0.36.2)\n",
            "Requirement already satisfied: flatbuffers~=1.12.0 in /usr/local/lib/python3.7/dist-packages (from tensorflow<3,>=2.1.0->tensorflowjs) (1.12)\n",
            "Requirement already satisfied: grpcio~=1.34.0 in /usr/local/lib/python3.7/dist-packages (from tensorflow<3,>=2.1.0->tensorflowjs) (1.34.1)\n",
            "Requirement already satisfied: google-pasta~=0.2 in /usr/local/lib/python3.7/dist-packages (from tensorflow<3,>=2.1.0->tensorflowjs) (0.2.0)\n",
            "Requirement already satisfied: wrapt~=1.12.1 in /usr/local/lib/python3.7/dist-packages (from tensorflow<3,>=2.1.0->tensorflowjs) (1.12.1)\n",
            "Requirement already satisfied: keras-preprocessing~=1.1.2 in /usr/local/lib/python3.7/dist-packages (from tensorflow<3,>=2.1.0->tensorflowjs) (1.1.2)\n",
            "Requirement already satisfied: typing-extensions~=3.7.4 in /usr/local/lib/python3.7/dist-packages (from tensorflow<3,>=2.1.0->tensorflowjs) (3.7.4.3)\n",
            "Requirement already satisfied: absl-py~=0.10 in /usr/local/lib/python3.7/dist-packages (from tensorflow<3,>=2.1.0->tensorflowjs) (0.12.0)\n",
            "Requirement already satisfied: tensorboard~=2.5 in /usr/local/lib/python3.7/dist-packages (from tensorflow<3,>=2.1.0->tensorflowjs) (2.5.0)\n",
            "Requirement already satisfied: gast==0.4.0 in /usr/local/lib/python3.7/dist-packages (from tensorflow<3,>=2.1.0->tensorflowjs) (0.4.0)\n",
            "Requirement already satisfied: tensorflow-estimator<2.6.0,>=2.5.0rc0 in /usr/local/lib/python3.7/dist-packages (from tensorflow<3,>=2.1.0->tensorflowjs) (2.5.0)\n",
            "Requirement already satisfied: termcolor~=1.1.0 in /usr/local/lib/python3.7/dist-packages (from tensorflow<3,>=2.1.0->tensorflowjs) (1.1.0)\n",
            "Requirement already satisfied: astunparse~=1.6.3 in /usr/local/lib/python3.7/dist-packages (from tensorflow<3,>=2.1.0->tensorflowjs) (1.6.3)\n",
            "Requirement already satisfied: h5py~=3.1.0 in /usr/local/lib/python3.7/dist-packages (from tensorflow<3,>=2.1.0->tensorflowjs) (3.1.0)\n",
            "Requirement already satisfied: opt-einsum~=3.3.0 in /usr/local/lib/python3.7/dist-packages (from tensorflow<3,>=2.1.0->tensorflowjs) (3.3.0)\n",
            "Requirement already satisfied: setuptools in /usr/local/lib/python3.7/dist-packages (from protobuf>=3.8.0->tensorflow-hub<0.13,>=0.7.0; python_version >= \"3\"->tensorflowjs) (57.0.0)\n",
            "Requirement already satisfied: tensorboard-data-server<0.7.0,>=0.6.0 in /usr/local/lib/python3.7/dist-packages (from tensorboard~=2.5->tensorflow<3,>=2.1.0->tensorflowjs) (0.6.1)\n",
            "Requirement already satisfied: google-auth-oauthlib<0.5,>=0.4.1 in /usr/local/lib/python3.7/dist-packages (from tensorboard~=2.5->tensorflow<3,>=2.1.0->tensorflowjs) (0.4.4)\n",
            "Requirement already satisfied: google-auth<2,>=1.6.3 in /usr/local/lib/python3.7/dist-packages (from tensorboard~=2.5->tensorflow<3,>=2.1.0->tensorflowjs) (1.30.0)\n",
            "Requirement already satisfied: tensorboard-plugin-wit>=1.6.0 in /usr/local/lib/python3.7/dist-packages (from tensorboard~=2.5->tensorflow<3,>=2.1.0->tensorflowjs) (1.8.0)\n",
            "Requirement already satisfied: requests<3,>=2.21.0 in /usr/local/lib/python3.7/dist-packages (from tensorboard~=2.5->tensorflow<3,>=2.1.0->tensorflowjs) (2.23.0)\n",
            "Requirement already satisfied: werkzeug>=0.11.15 in /usr/local/lib/python3.7/dist-packages (from tensorboard~=2.5->tensorflow<3,>=2.1.0->tensorflowjs) (1.0.1)\n",
            "Requirement already satisfied: markdown>=2.6.8 in /usr/local/lib/python3.7/dist-packages (from tensorboard~=2.5->tensorflow<3,>=2.1.0->tensorflowjs) (3.3.4)\n",
            "Requirement already satisfied: cached-property; python_version < \"3.8\" in /usr/local/lib/python3.7/dist-packages (from h5py~=3.1.0->tensorflow<3,>=2.1.0->tensorflowjs) (1.5.2)\n",
            "Requirement already satisfied: requests-oauthlib>=0.7.0 in /usr/local/lib/python3.7/dist-packages (from google-auth-oauthlib<0.5,>=0.4.1->tensorboard~=2.5->tensorflow<3,>=2.1.0->tensorflowjs) (1.3.0)\n",
            "Requirement already satisfied: pyasn1-modules>=0.2.1 in /usr/local/lib/python3.7/dist-packages (from google-auth<2,>=1.6.3->tensorboard~=2.5->tensorflow<3,>=2.1.0->tensorflowjs) (0.2.8)\n",
            "Requirement already satisfied: rsa<5,>=3.1.4; python_version >= \"3.6\" in /usr/local/lib/python3.7/dist-packages (from google-auth<2,>=1.6.3->tensorboard~=2.5->tensorflow<3,>=2.1.0->tensorflowjs) (4.7.2)\n",
            "Requirement already satisfied: cachetools<5.0,>=2.0.0 in /usr/local/lib/python3.7/dist-packages (from google-auth<2,>=1.6.3->tensorboard~=2.5->tensorflow<3,>=2.1.0->tensorflowjs) (4.2.2)\n",
            "Requirement already satisfied: idna<3,>=2.5 in /usr/local/lib/python3.7/dist-packages (from requests<3,>=2.21.0->tensorboard~=2.5->tensorflow<3,>=2.1.0->tensorflowjs) (2.10)\n",
            "Requirement already satisfied: certifi>=2017.4.17 in /usr/local/lib/python3.7/dist-packages (from requests<3,>=2.21.0->tensorboard~=2.5->tensorflow<3,>=2.1.0->tensorflowjs) (2020.12.5)\n",
            "Requirement already satisfied: urllib3!=1.25.0,!=1.25.1,<1.26,>=1.21.1 in /usr/local/lib/python3.7/dist-packages (from requests<3,>=2.21.0->tensorboard~=2.5->tensorflow<3,>=2.1.0->tensorflowjs) (1.24.3)\n",
            "Requirement already satisfied: chardet<4,>=3.0.2 in /usr/local/lib/python3.7/dist-packages (from requests<3,>=2.21.0->tensorboard~=2.5->tensorflow<3,>=2.1.0->tensorflowjs) (3.0.4)\n",
            "Requirement already satisfied: importlib-metadata; python_version < \"3.8\" in /usr/local/lib/python3.7/dist-packages (from markdown>=2.6.8->tensorboard~=2.5->tensorflow<3,>=2.1.0->tensorflowjs) (4.0.1)\n",
            "Requirement already satisfied: oauthlib>=3.0.0 in /usr/local/lib/python3.7/dist-packages (from requests-oauthlib>=0.7.0->google-auth-oauthlib<0.5,>=0.4.1->tensorboard~=2.5->tensorflow<3,>=2.1.0->tensorflowjs) (3.1.0)\n",
            "Requirement already satisfied: pyasn1<0.5.0,>=0.4.6 in /usr/local/lib/python3.7/dist-packages (from pyasn1-modules>=0.2.1->google-auth<2,>=1.6.3->tensorboard~=2.5->tensorflow<3,>=2.1.0->tensorflowjs) (0.4.8)\n",
            "Requirement already satisfied: zipp>=0.5 in /usr/local/lib/python3.7/dist-packages (from importlib-metadata; python_version < \"3.8\"->markdown>=2.6.8->tensorboard~=2.5->tensorflow<3,>=2.1.0->tensorflowjs) (3.4.1)\n"
          ],
          "name": "stdout"
        }
      ]
    },
    {
      "cell_type": "code",
      "metadata": {
        "id": "sLl52leVp5wU"
      },
      "source": [
        "import numpy as np\n",
        "import matplotlib.pyplot as plt\n",
        "def plot_series(time, series, format=\"-\", start=0, end=None):\n",
        "    plt.plot(time[start:end], series[start:end], format)\n",
        "    plt.xlabel(\"Time\")\n",
        "    plt.ylabel(\"Value\")\n",
        "    plt.grid(True)"
      ],
      "execution_count": null,
      "outputs": []
    },
    {
      "cell_type": "code",
      "metadata": {
        "colab": {
          "base_uri": "https://localhost:8080/",
          "height": 387
        },
        "id": "NcG9r1eClbTh",
        "outputId": "e0bbe5ef-330e-490e-edc9-de41a05bce1f"
      },
      "source": [
        "import csv\n",
        "i=1\n",
        "time_step = []\n",
        "precipitation = []\n",
        "\n",
        "with open('/tmp/datasetCuacaSmg1957-2021fix.csv') as csvfile:\n",
        "  reader = csv.reader(csvfile, delimiter=',')\n",
        "  next(reader)\n",
        "  for row in reader:\n",
        "    precipitation.append(float(row[2]))\n",
        "    time_step.append(i)\n",
        "    i+=1\n",
        "\n",
        "series = np.array(precipitation)\n",
        "time = np.array(time_step)\n",
        "plt.figure(figsize=(10, 6))\n",
        "plot_series(time, series)"
      ],
      "execution_count": null,
      "outputs": [
        {
          "output_type": "display_data",
          "data": {
            "image/png": "[encoded data removed]",
            "text/plain": [
              "<Figure size 720x432 with 1 Axes>"
            ]
          },
          "metadata": {
            "tags": [],
            "needs_background": "light"
          }
        }
      ]
    },
    {
      "cell_type": "code",
      "metadata": {
        "id": "L92YRw_IpCFG"
      },
      "source": [
        "split_time = 13000\n",
        "time_train = time[:split_time]\n",
        "x_train = series[:split_time]\n",
        "time_valid = time[split_time:]\n",
        "x_valid = series[split_time:]\n",
        "\n",
        "window_size = 30\n",
        "batch_size = 32\n",
        "shuffle_buffer_size = 1000\n"
      ],
      "execution_count": null,
      "outputs": []
    },
    {
      "cell_type": "code",
      "metadata": {
        "id": "lJwUUZscnG38"
      },
      "source": [
        "def windowed_dataset(series, window_size, batch_size, shuffle_buffer):\n",
        "    series = tf.expand_dims(series, axis=-1)\n",
        "    ds = tf.data.Dataset.from_tensor_slices(series)\n",
        "    ds = ds.window(window_size + 1, shift=1, drop_remainder=True)\n",
        "    ds = ds.flat_map(lambda w: w.batch(window_size + 1))\n",
        "    ds = ds.shuffle(shuffle_buffer)\n",
        "    ds = ds.map(lambda w: (w[:-1], w[1:]))\n",
        "    return ds.batch(batch_size).prefetch(1)"
      ],
      "execution_count": null,
      "outputs": []
    },
    {
      "cell_type": "code",
      "metadata": {
        "id": "4XwGrf-A_wF0"
      },
      "source": [
        "def model_forecast(model, series, window_size):\n",
        "    ds = tf.data.Dataset.from_tensor_slices(series)\n",
        "    ds = ds.window(window_size, shift=1, drop_remainder=True)\n",
        "    ds = ds.flat_map(lambda w: w.batch(window_size))\n",
        "    ds = ds.batch(32).prefetch(1)\n",
        "    forecast = model.predict(ds)\n",
        "    return forecast"
      ],
      "execution_count": null,
      "outputs": []
    },
    {
      "cell_type": "code",
      "metadata": {
        "colab": {
          "base_uri": "https://localhost:8080/"
        },
        "id": "AclfYY3Mn6Ph",
        "outputId": "066e96c8-c8e2-4fd0-d3d8-cda1ba5d3188"
      },
      "source": [
        "tf.keras.backend.clear_session()\n",
        "tf.random.set_seed(51)\n",
        "np.random.seed(51)\n",
        "window_size = 100\n",
        "batch_size = 128\n",
        "train_set = windowed_dataset(x_train, window_size, batch_size, shuffle_buffer_size)\n",
        "print(train_set)\n",
        "print(x_train.shape)\n",
        "\n",
        "model = tf.keras.models.Sequential([\n",
        "  tf.keras.layers.Conv1D(filters=32, kernel_size=5,\n",
        "                      strides=1, padding=\"causal\",\n",
        "                      activation=\"relu\",\n",
        "                      input_shape=[None, 1]),\n",
        "  tf.keras.layers.LSTM(64, return_sequences=True),\n",
        "  tf.keras.layers.LSTM(64, return_sequences=True),\n",
        "  tf.keras.layers.Dense(30, activation=\"relu\"),\n",
        "  tf.keras.layers.Dense(10, activation=\"relu\"),\n",
        "  tf.keras.layers.Dense(1),\n",
        "  tf.keras.layers.Lambda(lambda x: x * 400)\n",
        "])\n",
        "\n",
        "lr_schedule = tf.keras.callbacks.LearningRateScheduler(\n",
        "    lambda epoch: 1e-8 * 10**(epoch / 20))\n",
        "optimizer = tf.keras.optimizers.SGD(lr=1e-8, momentum=0.9)\n",
        "model.compile(loss=tf.keras.losses.Huber(),\n",
        "              optimizer=optimizer,\n",
        "              metrics=[\"mae\"])\n",
        "history = model.fit(train_set, epochs=100, callbacks=[lr_schedule])\n"
      ],
      "execution_count": null,
      "outputs": [
        {
          "output_type": "stream",
          "text": [
            "<PrefetchDataset shapes: ((None, None, 1), (None, None, 1)), types: (tf.float64, tf.float64)>\n",
            "(13000,)\n"
          ],
          "name": "stdout"
        },
        {
          "output_type": "stream",
          "text": [
            "/usr/local/lib/python3.7/dist-packages/tensorflow/python/keras/optimizer_v2/optimizer_v2.py:375: UserWarning: The `lr` argument is deprecated, use `learning_rate` instead.\n",
            "  \"The `lr` argument is deprecated, use `learning_rate` instead.\")\n"
          ],
          "name": "stderr"
        },
        {
          "output_type": "stream",
          "text": [
            "Epoch 1/100\n",
            "101/101 [==============================] - 6s 26ms/step - loss: 53.4911 - mae: 53.9911\n",
            "Epoch 2/100\n",
            "101/101 [==============================] - 3s 27ms/step - loss: 15.4908 - mae: 15.9786\n",
            "Epoch 3/100\n",
            "101/101 [==============================] - 3s 27ms/step - loss: 4.5392 - mae: 4.9954\n",
            "Epoch 4/100\n",
            "101/101 [==============================] - 3s 27ms/step - loss: 4.4470 - mae: 4.9026\n",
            "Epoch 5/100\n",
            "101/101 [==============================] - 3s 27ms/step - loss: 4.3980 - mae: 4.8536\n",
            "Epoch 6/100\n",
            "101/101 [==============================] - 3s 27ms/step - loss: 4.3409 - mae: 4.7963\n",
            "Epoch 7/100\n",
            "101/101 [==============================] - 3s 27ms/step - loss: 4.2777 - mae: 4.7327\n",
            "Epoch 8/100\n",
            "101/101 [==============================] - 3s 27ms/step - loss: 4.2137 - mae: 4.6685\n",
            "Epoch 9/100\n",
            "101/101 [==============================] - 3s 26ms/step - loss: 4.1303 - mae: 4.5846\n",
            "Epoch 10/100\n",
            "101/101 [==============================] - 3s 27ms/step - loss: 4.0206 - mae: 4.4737\n",
            "Epoch 11/100\n",
            "101/101 [==============================] - 3s 28ms/step - loss: 3.9867 - mae: 4.4405\n",
            "Epoch 12/100\n",
            "101/101 [==============================] - 3s 27ms/step - loss: 3.8760 - mae: 4.3296\n",
            "Epoch 13/100\n",
            "101/101 [==============================] - 3s 27ms/step - loss: 3.8349 - mae: 4.2888\n",
            "Epoch 14/100\n",
            "101/101 [==============================] - 3s 27ms/step - loss: 3.7143 - mae: 4.1671\n",
            "Epoch 15/100\n",
            "101/101 [==============================] - 3s 28ms/step - loss: 3.5961 - mae: 4.0483\n",
            "Epoch 16/100\n",
            "101/101 [==============================] - 3s 27ms/step - loss: 3.5858 - mae: 4.0391\n",
            "Epoch 17/100\n",
            "101/101 [==============================] - 3s 28ms/step - loss: 3.4874 - mae: 3.9401\n",
            "Epoch 18/100\n",
            "101/101 [==============================] - 3s 28ms/step - loss: 3.3971 - mae: 3.8496\n",
            "Epoch 19/100\n",
            "101/101 [==============================] - 3s 27ms/step - loss: 3.2905 - mae: 3.7423\n",
            "Epoch 20/100\n",
            "101/101 [==============================] - 3s 27ms/step - loss: 3.1810 - mae: 3.6318\n",
            "Epoch 21/100\n",
            "101/101 [==============================] - 3s 27ms/step - loss: 3.0752 - mae: 3.5251\n",
            "Epoch 22/100\n",
            "101/101 [==============================] - 3s 29ms/step - loss: 2.9591 - mae: 3.4078\n",
            "Epoch 23/100\n",
            "101/101 [==============================] - 3s 27ms/step - loss: 2.8418 - mae: 3.2895\n",
            "Epoch 24/100\n",
            "101/101 [==============================] - 3s 28ms/step - loss: 2.7369 - mae: 3.1834\n",
            "Epoch 25/100\n",
            "101/101 [==============================] - 3s 27ms/step - loss: 2.6376 - mae: 3.0830\n",
            "Epoch 26/100\n",
            "101/101 [==============================] - 3s 27ms/step - loss: 2.5374 - mae: 2.9814\n",
            "Epoch 27/100\n",
            "101/101 [==============================] - 3s 27ms/step - loss: 2.4437 - mae: 2.8865\n",
            "Epoch 28/100\n",
            "101/101 [==============================] - 3s 27ms/step - loss: 2.3620 - mae: 2.8041\n",
            "Epoch 29/100\n",
            "101/101 [==============================] - 3s 27ms/step - loss: 2.2882 - mae: 2.7298\n",
            "Epoch 30/100\n",
            "101/101 [==============================] - 3s 28ms/step - loss: 2.2141 - mae: 2.6553\n",
            "Epoch 31/100\n",
            "101/101 [==============================] - 3s 27ms/step - loss: 2.1426 - mae: 2.5831\n",
            "Epoch 32/100\n",
            "101/101 [==============================] - 3s 28ms/step - loss: 2.0801 - mae: 2.5196\n",
            "Epoch 33/100\n",
            "101/101 [==============================] - 3s 27ms/step - loss: 2.0264 - mae: 2.4655\n",
            "Epoch 34/100\n",
            "101/101 [==============================] - 3s 27ms/step - loss: 1.9855 - mae: 2.4243\n",
            "Epoch 35/100\n",
            "101/101 [==============================] - 3s 27ms/step - loss: 1.9536 - mae: 2.3922\n",
            "Epoch 36/100\n",
            "101/101 [==============================] - 3s 28ms/step - loss: 1.9182 - mae: 2.3564\n",
            "Epoch 37/100\n",
            "101/101 [==============================] - 3s 27ms/step - loss: 1.8824 - mae: 2.3206\n",
            "Epoch 38/100\n",
            "101/101 [==============================] - 3s 27ms/step - loss: 1.8464 - mae: 2.2847\n",
            "Epoch 39/100\n",
            "101/101 [==============================] - 3s 27ms/step - loss: 1.7981 - mae: 2.2357\n",
            "Epoch 40/100\n",
            "101/101 [==============================] - 3s 27ms/step - loss: 1.7693 - mae: 2.2079\n",
            "Epoch 41/100\n",
            "101/101 [==============================] - 3s 27ms/step - loss: 1.7436 - mae: 2.1830\n",
            "Epoch 42/100\n",
            "101/101 [==============================] - 3s 28ms/step - loss: 1.6869 - mae: 2.1251\n",
            "Epoch 43/100\n",
            "101/101 [==============================] - 3s 27ms/step - loss: 1.6642 - mae: 2.1031\n",
            "Epoch 44/100\n",
            "101/101 [==============================] - 3s 27ms/step - loss: 1.6798 - mae: 2.1210\n",
            "Epoch 45/100\n",
            "101/101 [==============================] - 3s 27ms/step - loss: 1.7024 - mae: 2.1455\n",
            "Epoch 46/100\n",
            "101/101 [==============================] - 3s 27ms/step - loss: 1.6964 - mae: 2.1401\n",
            "Epoch 47/100\n",
            "101/101 [==============================] - 3s 28ms/step - loss: 1.6798 - mae: 2.1240\n",
            "Epoch 48/100\n",
            "101/101 [==============================] - 3s 28ms/step - loss: 1.6945 - mae: 2.1405\n",
            "Epoch 49/100\n",
            "101/101 [==============================] - 3s 27ms/step - loss: 1.7202 - mae: 2.1678\n",
            "Epoch 50/100\n",
            "101/101 [==============================] - 3s 27ms/step - loss: 1.7172 - mae: 2.1658\n",
            "Epoch 51/100\n",
            "101/101 [==============================] - 3s 27ms/step - loss: 1.7715 - mae: 2.2234\n",
            "Epoch 52/100\n",
            "101/101 [==============================] - 3s 27ms/step - loss: 1.8132 - mae: 2.2661\n",
            "Epoch 53/100\n",
            "101/101 [==============================] - 3s 29ms/step - loss: 1.9709 - mae: 2.4287\n",
            "Epoch 54/100\n",
            "101/101 [==============================] - 3s 28ms/step - loss: 1.9726 - mae: 2.4296\n",
            "Epoch 55/100\n",
            "101/101 [==============================] - 3s 28ms/step - loss: 2.0848 - mae: 2.5443\n",
            "Epoch 56/100\n",
            "101/101 [==============================] - 3s 28ms/step - loss: 2.2194 - mae: 2.6830\n",
            "Epoch 57/100\n",
            "101/101 [==============================] - 3s 27ms/step - loss: 2.1941 - mae: 2.6551\n",
            "Epoch 58/100\n",
            "101/101 [==============================] - 3s 26ms/step - loss: 3.6825 - mae: 4.1539\n",
            "Epoch 59/100\n",
            "101/101 [==============================] - 3s 26ms/step - loss: 1.8512 - mae: 2.3043\n",
            "Epoch 60/100\n",
            "101/101 [==============================] - 3s 26ms/step - loss: 2.0862 - mae: 2.5447\n",
            "Epoch 61/100\n",
            "101/101 [==============================] - 3s 28ms/step - loss: 2.1662 - mae: 2.6273\n",
            "Epoch 62/100\n",
            "101/101 [==============================] - 3s 27ms/step - loss: 2.2879 - mae: 2.7528\n",
            "Epoch 63/100\n",
            "101/101 [==============================] - 3s 29ms/step - loss: 2.2515 - mae: 2.7138\n",
            "Epoch 64/100\n",
            "101/101 [==============================] - 3s 28ms/step - loss: 2.3158 - mae: 2.7801\n",
            "Epoch 65/100\n",
            "101/101 [==============================] - 3s 27ms/step - loss: 3.1195 - mae: 3.5899\n",
            "Epoch 66/100\n",
            "101/101 [==============================] - 3s 27ms/step - loss: 3.9490 - mae: 4.4328\n",
            "Epoch 67/100\n",
            "101/101 [==============================] - 3s 27ms/step - loss: 2.1602 - mae: 2.6180\n",
            "Epoch 68/100\n",
            "101/101 [==============================] - 3s 27ms/step - loss: 2.1969 - mae: 2.6560\n",
            "Epoch 69/100\n",
            "101/101 [==============================] - 3s 27ms/step - loss: 2.1242 - mae: 2.5821\n",
            "Epoch 70/100\n",
            "101/101 [==============================] - 3s 28ms/step - loss: 2.2640 - mae: 2.7245\n",
            "Epoch 71/100\n",
            "101/101 [==============================] - 3s 29ms/step - loss: 2.1229 - mae: 2.5807\n",
            "Epoch 72/100\n",
            "101/101 [==============================] - 3s 27ms/step - loss: 3.1443 - mae: 3.6129\n",
            "Epoch 73/100\n",
            "101/101 [==============================] - 3s 27ms/step - loss: 2.1749 - mae: 2.6335\n",
            "Epoch 74/100\n",
            "101/101 [==============================] - 3s 27ms/step - loss: 2.4104 - mae: 2.8738\n",
            "Epoch 75/100\n",
            "101/101 [==============================] - 3s 27ms/step - loss: 2.3746 - mae: 2.8372\n",
            "Epoch 76/100\n",
            "101/101 [==============================] - 3s 27ms/step - loss: 2.4629 - mae: 2.9262\n",
            "Epoch 77/100\n",
            "101/101 [==============================] - 3s 28ms/step - loss: 2.6799 - mae: 3.1465\n",
            "Epoch 78/100\n",
            "101/101 [==============================] - 3s 28ms/step - loss: 2.3190 - mae: 2.7806\n",
            "Epoch 79/100\n",
            "101/101 [==============================] - 3s 28ms/step - loss: 2.6179 - mae: 3.0832\n",
            "Epoch 80/100\n",
            "101/101 [==============================] - 3s 28ms/step - loss: 2.8646 - mae: 3.3326\n",
            "Epoch 81/100\n",
            "101/101 [==============================] - 3s 27ms/step - loss: 3.2324 - mae: 3.7065\n",
            "Epoch 82/100\n",
            "101/101 [==============================] - 3s 27ms/step - loss: 4.9070 - mae: 5.3853\n",
            "Epoch 83/100\n",
            "101/101 [==============================] - 3s 27ms/step - loss: 12.1351 - mae: 12.6327\n",
            "Epoch 84/100\n",
            "101/101 [==============================] - 3s 27ms/step - loss: 11.3082 - mae: 11.8078\n",
            "Epoch 85/100\n",
            "101/101 [==============================] - 3s 28ms/step - loss: 12.7715 - mae: 13.2713\n",
            "Epoch 86/100\n",
            "101/101 [==============================] - 3s 27ms/step - loss: 14.4128 - mae: 14.9126\n",
            "Epoch 87/100\n",
            "101/101 [==============================] - 3s 28ms/step - loss: 16.2555 - mae: 16.7555\n",
            "Epoch 88/100\n",
            "101/101 [==============================] - 3s 27ms/step - loss: 18.0780 - mae: 18.5776\n",
            "Epoch 89/100\n",
            "101/101 [==============================] - 3s 27ms/step - loss: 20.5657 - mae: 21.0657\n",
            "Epoch 90/100\n",
            "101/101 [==============================] - 3s 27ms/step - loss: 46.3528 - mae: 46.8492\n",
            "Epoch 91/100\n",
            "101/101 [==============================] - 3s 29ms/step - loss: 116.5703 - mae: 117.0702\n",
            "Epoch 92/100\n",
            "101/101 [==============================] - 3s 27ms/step - loss: 28.5396 - mae: 29.0391\n",
            "Epoch 93/100\n",
            "101/101 [==============================] - 3s 27ms/step - loss: 16.2205 - mae: 16.7204\n",
            "Epoch 94/100\n",
            "101/101 [==============================] - 3s 27ms/step - loss: 18.2609 - mae: 18.7607\n",
            "Epoch 95/100\n",
            "101/101 [==============================] - 3s 27ms/step - loss: 20.5310 - mae: 21.0307\n",
            "Epoch 96/100\n",
            "101/101 [==============================] - 3s 27ms/step - loss: 99.6744 - mae: 100.1719\n",
            "Epoch 97/100\n",
            "101/101 [==============================] - 3s 28ms/step - loss: 62.0366 - mae: 62.5363\n",
            "Epoch 98/100\n",
            "101/101 [==============================] - 3s 28ms/step - loss: 59.0387 - mae: 59.5387\n",
            "Epoch 99/100\n",
            "101/101 [==============================] - 3s 27ms/step - loss: 62.5205 - mae: 63.0203\n",
            "Epoch 100/100\n",
            "101/101 [==============================] - 3s 27ms/step - loss: 132.0417 - mae: 132.5411\n"
          ],
          "name": "stdout"
        }
      ]
    },
    {
      "cell_type": "code",
      "metadata": {
        "colab": {
          "base_uri": "https://localhost:8080/",
          "height": 291
        },
        "id": "vVcKmg7Q_7rD",
        "outputId": "ef86219b-9682-46be-942f-951624d22a5c"
      },
      "source": [
        "plt.semilogx(history.history[\"lr\"], history.history[\"loss\"])\n",
        "plt.axis([1e-8, 1e-4, 0, 20])"
      ],
      "execution_count": null,
      "outputs": [
        {
          "output_type": "execute_result",
          "data": {
            "text/plain": [
              "(1e-08, 0.0001, 0.0, 20.0)"
            ]
          },
          "metadata": {
            "tags": []
          },
          "execution_count": 57
        },
        {
          "output_type": "display_data",
          "data": {
            "image/png": "[encoded data removed]",
            "text/plain": [
              "<Figure size 432x288 with 1 Axes>"
            ]
          },
          "metadata": {
            "tags": [],
            "needs_background": "light"
          }
        }
      ]
    },
    {
      "cell_type": "code",
      "metadata": {
        "colab": {
          "base_uri": "https://localhost:8080/"
        },
        "id": "QsksvkcXAAgq",
        "outputId": "64911e4d-46fb-4cf5-cea1-31c7423a7d45"
      },
      "source": [
        "tf.keras.backend.clear_session()\n",
        "tf.random.set_seed(51)\n",
        "np.random.seed(51)\n",
        "train_set = windowed_dataset(x_train, window_size=60, batch_size=200, shuffle_buffer=shuffle_buffer_size)\n",
        "model = tf.keras.models.Sequential([\n",
        "  tf.keras.layers.Conv1D(filters=60, kernel_size=5,\n",
        "                      strides=1, padding=\"causal\",\n",
        "                      activation=\"relu\",\n",
        "                      input_shape=[None, 1]),\n",
        "  tf.keras.layers.LSTM(60, return_sequences=True),\n",
        "  tf.keras.layers.LSTM(60, return_sequences=True),\n",
        "  tf.keras.layers.Dense(30, activation=\"relu\"),\n",
        "  tf.keras.layers.Dense(10, activation=\"relu\"),\n",
        "  tf.keras.layers.Dense(1),\n",
        "  tf.keras.layers.Lambda(lambda x: x * 400)\n",
        "])\n",
        "\n",
        "\n",
        "optimizer = tf.keras.optimizers.SGD(lr=1e-6, momentum=0.9)\n",
        "model.compile(loss=tf.keras.losses.Huber(),\n",
        "              optimizer=optimizer,\n",
        "              metrics=[\"mae\", 'accuracy'])\n",
        "history = model.fit(train_set,epochs=100)"
      ],
      "execution_count": null,
      "outputs": [
        {
          "output_type": "stream",
          "text": [
            "/usr/local/lib/python3.7/dist-packages/tensorflow/python/keras/optimizer_v2/optimizer_v2.py:375: UserWarning: The `lr` argument is deprecated, use `learning_rate` instead.\n",
            "  \"The `lr` argument is deprecated, use `learning_rate` instead.\")\n"
          ],
          "name": "stderr"
        },
        {
          "output_type": "stream",
          "text": [
            "Epoch 1/100\n",
            "65/65 [==============================] - 5s 29ms/step - loss: 12.6575 - mae: 13.1356 - accuracy: 0.0000e+00\n",
            "Epoch 2/100\n",
            "65/65 [==============================] - 2s 29ms/step - loss: 3.9181 - mae: 4.3805 - accuracy: 0.0000e+00\n",
            "Epoch 3/100\n",
            "65/65 [==============================] - 2s 30ms/step - loss: 3.3239 - mae: 3.7828 - accuracy: 0.0000e+00\n",
            "Epoch 4/100\n",
            "65/65 [==============================] - 2s 29ms/step - loss: 2.9780 - mae: 3.4343 - accuracy: 0.0000e+00\n",
            "Epoch 5/100\n",
            "65/65 [==============================] - 2s 31ms/step - loss: 2.7333 - mae: 3.1879 - accuracy: 0.0000e+00\n",
            "Epoch 6/100\n",
            "65/65 [==============================] - 2s 30ms/step - loss: 2.4397 - mae: 2.8922 - accuracy: 0.0000e+00\n",
            "Epoch 7/100\n",
            "65/65 [==============================] - 2s 31ms/step - loss: 2.2377 - mae: 2.6887 - accuracy: 0.0000e+00\n",
            "Epoch 8/100\n",
            "65/65 [==============================] - 2s 30ms/step - loss: 2.1267 - mae: 2.5769 - accuracy: 0.0000e+00\n",
            "Epoch 9/100\n",
            "65/65 [==============================] - 2s 30ms/step - loss: 2.0385 - mae: 2.4873 - accuracy: 0.0000e+00\n",
            "Epoch 10/100\n",
            "65/65 [==============================] - 2s 30ms/step - loss: 1.9460 - mae: 2.3938 - accuracy: 0.0000e+00\n",
            "Epoch 11/100\n",
            "65/65 [==============================] - 2s 30ms/step - loss: 1.8959 - mae: 2.3435 - accuracy: 0.0000e+00\n",
            "Epoch 12/100\n",
            "65/65 [==============================] - 2s 31ms/step - loss: 1.8446 - mae: 2.2912 - accuracy: 0.0000e+00\n",
            "Epoch 13/100\n",
            "65/65 [==============================] - 2s 32ms/step - loss: 1.7684 - mae: 2.2129 - accuracy: 0.0000e+00\n",
            "Epoch 14/100\n",
            "65/65 [==============================] - 2s 30ms/step - loss: 1.7228 - mae: 2.1667 - accuracy: 0.0000e+00\n",
            "Epoch 15/100\n",
            "65/65 [==============================] - 2s 31ms/step - loss: 1.6116 - mae: 2.0527 - accuracy: 0.0000e+00\n",
            "Epoch 16/100\n",
            "65/65 [==============================] - 2s 30ms/step - loss: 1.6089 - mae: 2.0512 - accuracy: 0.0000e+00\n",
            "Epoch 17/100\n",
            "65/65 [==============================] - 2s 30ms/step - loss: 1.5158 - mae: 1.9557 - accuracy: 0.0000e+00\n",
            "Epoch 18/100\n",
            "65/65 [==============================] - 2s 31ms/step - loss: 1.4549 - mae: 1.8926 - accuracy: 0.0000e+00\n",
            "Epoch 19/100\n",
            "65/65 [==============================] - 2s 31ms/step - loss: 1.4588 - mae: 1.8974 - accuracy: 0.0000e+00\n",
            "Epoch 20/100\n",
            "65/65 [==============================] - 2s 31ms/step - loss: 1.4559 - mae: 1.8939 - accuracy: 0.0000e+00\n",
            "Epoch 21/100\n",
            "65/65 [==============================] - 2s 30ms/step - loss: 1.4239 - mae: 1.8614 - accuracy: 0.0000e+00\n",
            "Epoch 22/100\n",
            "65/65 [==============================] - 2s 30ms/step - loss: 1.3977 - mae: 1.8337 - accuracy: 0.0000e+00\n",
            "Epoch 23/100\n",
            "65/65 [==============================] - 2s 29ms/step - loss: 1.3826 - mae: 1.8181 - accuracy: 0.0000e+00\n",
            "Epoch 24/100\n",
            "65/65 [==============================] - 2s 30ms/step - loss: 1.3854 - mae: 1.8213 - accuracy: 0.0000e+00\n",
            "Epoch 25/100\n",
            "65/65 [==============================] - 2s 30ms/step - loss: 1.3894 - mae: 1.8256 - accuracy: 0.0000e+00\n",
            "Epoch 26/100\n",
            "65/65 [==============================] - 2s 32ms/step - loss: 1.3690 - mae: 1.8041 - accuracy: 0.0000e+00\n",
            "Epoch 27/100\n",
            "65/65 [==============================] - 2s 30ms/step - loss: 1.3662 - mae: 1.8014 - accuracy: 0.0000e+00\n",
            "Epoch 28/100\n",
            "65/65 [==============================] - 2s 31ms/step - loss: 1.3611 - mae: 1.7964 - accuracy: 0.0000e+00\n",
            "Epoch 29/100\n",
            "65/65 [==============================] - 2s 30ms/step - loss: 1.3541 - mae: 1.7888 - accuracy: 0.0000e+00\n",
            "Epoch 30/100\n",
            "65/65 [==============================] - 2s 30ms/step - loss: 1.3638 - mae: 1.7988 - accuracy: 0.0000e+00\n",
            "Epoch 31/100\n",
            "65/65 [==============================] - 2s 30ms/step - loss: 1.3591 - mae: 1.7940 - accuracy: 0.0000e+00\n",
            "Epoch 32/100\n",
            "65/65 [==============================] - 2s 30ms/step - loss: 1.3505 - mae: 1.7849 - accuracy: 0.0000e+00\n",
            "Epoch 33/100\n",
            "65/65 [==============================] - 2s 30ms/step - loss: 1.3546 - mae: 1.7891 - accuracy: 0.0000e+00\n",
            "Epoch 34/100\n",
            "65/65 [==============================] - 2s 30ms/step - loss: 1.3493 - mae: 1.7838 - accuracy: 0.0000e+00\n",
            "Epoch 35/100\n",
            "65/65 [==============================] - 2s 30ms/step - loss: 1.3537 - mae: 1.7883 - accuracy: 0.0000e+00\n",
            "Epoch 36/100\n",
            "65/65 [==============================] - 2s 30ms/step - loss: 1.3429 - mae: 1.7770 - accuracy: 0.0000e+00\n",
            "Epoch 37/100\n",
            "65/65 [==============================] - 2s 30ms/step - loss: 1.3481 - mae: 1.7823 - accuracy: 0.0000e+00\n",
            "Epoch 38/100\n",
            "65/65 [==============================] - 2s 30ms/step - loss: 1.3399 - mae: 1.7735 - accuracy: 0.0000e+00\n",
            "Epoch 39/100\n",
            "65/65 [==============================] - 2s 32ms/step - loss: 1.3425 - mae: 1.7764 - accuracy: 0.0000e+00\n",
            "Epoch 40/100\n",
            "65/65 [==============================] - 2s 32ms/step - loss: 1.3402 - mae: 1.7741 - accuracy: 0.0000e+00\n",
            "Epoch 41/100\n",
            "65/65 [==============================] - 2s 30ms/step - loss: 1.3365 - mae: 1.7700 - accuracy: 0.0000e+00\n",
            "Epoch 42/100\n",
            "65/65 [==============================] - 2s 30ms/step - loss: 1.3323 - mae: 1.7659 - accuracy: 0.0000e+00\n",
            "Epoch 43/100\n",
            "65/65 [==============================] - 2s 31ms/step - loss: 1.3412 - mae: 1.7752 - accuracy: 0.0000e+00\n",
            "Epoch 44/100\n",
            "65/65 [==============================] - 2s 30ms/step - loss: 1.3335 - mae: 1.7669 - accuracy: 0.0000e+00\n",
            "Epoch 45/100\n",
            "65/65 [==============================] - 2s 30ms/step - loss: 1.3313 - mae: 1.7648 - accuracy: 0.0000e+00\n",
            "Epoch 46/100\n",
            "65/65 [==============================] - 2s 31ms/step - loss: 1.3272 - mae: 1.7604 - accuracy: 0.0000e+00\n",
            "Epoch 47/100\n",
            "65/65 [==============================] - 2s 30ms/step - loss: 1.3259 - mae: 1.7589 - accuracy: 0.0000e+00\n",
            "Epoch 48/100\n",
            "65/65 [==============================] - 2s 30ms/step - loss: 1.3263 - mae: 1.7594 - accuracy: 0.0000e+00\n",
            "Epoch 49/100\n",
            "65/65 [==============================] - 2s 31ms/step - loss: 1.3237 - mae: 1.7568 - accuracy: 0.0000e+00\n",
            "Epoch 50/100\n",
            "65/65 [==============================] - 2s 31ms/step - loss: 1.3297 - mae: 1.7630 - accuracy: 0.0000e+00\n",
            "Epoch 51/100\n",
            "65/65 [==============================] - 2s 31ms/step - loss: 1.3244 - mae: 1.7575 - accuracy: 0.0000e+00\n",
            "Epoch 52/100\n",
            "65/65 [==============================] - 2s 30ms/step - loss: 1.3258 - mae: 1.7589 - accuracy: 0.0000e+00\n",
            "Epoch 53/100\n",
            "65/65 [==============================] - 2s 30ms/step - loss: 1.3279 - mae: 1.7611 - accuracy: 0.0000e+00\n",
            "Epoch 54/100\n",
            "65/65 [==============================] - 2s 31ms/step - loss: 1.3234 - mae: 1.7565 - accuracy: 0.0000e+00\n",
            "Epoch 55/100\n",
            "65/65 [==============================] - 2s 32ms/step - loss: 1.3218 - mae: 1.7548 - accuracy: 0.0000e+00\n",
            "Epoch 56/100\n",
            "65/65 [==============================] - 2s 30ms/step - loss: 1.3204 - mae: 1.7533 - accuracy: 0.0000e+00\n",
            "Epoch 57/100\n",
            "65/65 [==============================] - 2s 30ms/step - loss: 1.3238 - mae: 1.7571 - accuracy: 0.0000e+00\n",
            "Epoch 58/100\n",
            "65/65 [==============================] - 2s 30ms/step - loss: 1.3203 - mae: 1.7533 - accuracy: 0.0000e+00\n",
            "Epoch 59/100\n",
            "65/65 [==============================] - 2s 31ms/step - loss: 1.3212 - mae: 1.7543 - accuracy: 0.0000e+00\n",
            "Epoch 60/100\n",
            "65/65 [==============================] - 2s 31ms/step - loss: 1.3249 - mae: 1.7581 - accuracy: 0.0000e+00\n",
            "Epoch 61/100\n",
            "65/65 [==============================] - 2s 31ms/step - loss: 1.3247 - mae: 1.7577 - accuracy: 0.0000e+00\n",
            "Epoch 62/100\n",
            "65/65 [==============================] - 2s 30ms/step - loss: 1.3175 - mae: 1.7503 - accuracy: 0.0000e+00\n",
            "Epoch 63/100\n",
            "65/65 [==============================] - 2s 30ms/step - loss: 1.3220 - mae: 1.7552 - accuracy: 0.0000e+00\n",
            "Epoch 64/100\n",
            "65/65 [==============================] - 2s 31ms/step - loss: 1.3152 - mae: 1.7480 - accuracy: 0.0000e+00\n",
            "Epoch 65/100\n",
            "65/65 [==============================] - 2s 30ms/step - loss: 1.3145 - mae: 1.7472 - accuracy: 0.0000e+00\n",
            "Epoch 66/100\n",
            "65/65 [==============================] - 2s 31ms/step - loss: 1.3150 - mae: 1.7477 - accuracy: 0.0000e+00\n",
            "Epoch 67/100\n",
            "65/65 [==============================] - 2s 30ms/step - loss: 1.3130 - mae: 1.7457 - accuracy: 0.0000e+00\n",
            "Epoch 68/100\n",
            "65/65 [==============================] - 2s 32ms/step - loss: 1.3134 - mae: 1.7461 - accuracy: 0.0000e+00\n",
            "Epoch 69/100\n",
            "65/65 [==============================] - 2s 31ms/step - loss: 1.3164 - mae: 1.7490 - accuracy: 0.0000e+00\n",
            "Epoch 70/100\n",
            "65/65 [==============================] - 2s 31ms/step - loss: 1.3141 - mae: 1.7467 - accuracy: 0.0000e+00\n",
            "Epoch 71/100\n",
            "65/65 [==============================] - 2s 31ms/step - loss: 1.3102 - mae: 1.7426 - accuracy: 0.0000e+00\n",
            "Epoch 72/100\n",
            "65/65 [==============================] - 2s 30ms/step - loss: 1.3099 - mae: 1.7424 - accuracy: 0.0000e+00\n",
            "Epoch 73/100\n",
            "65/65 [==============================] - 2s 30ms/step - loss: 1.3167 - mae: 1.7498 - accuracy: 0.0000e+00\n",
            "Epoch 74/100\n",
            "65/65 [==============================] - 2s 30ms/step - loss: 1.3111 - mae: 1.7439 - accuracy: 0.0000e+00\n",
            "Epoch 75/100\n",
            "65/65 [==============================] - 2s 30ms/step - loss: 1.3092 - mae: 1.7416 - accuracy: 0.0000e+00\n",
            "Epoch 76/100\n",
            "65/65 [==============================] - 2s 30ms/step - loss: 1.3113 - mae: 1.7438 - accuracy: 0.0000e+00\n",
            "Epoch 77/100\n",
            "65/65 [==============================] - 2s 30ms/step - loss: 1.3079 - mae: 1.7403 - accuracy: 0.0000e+00\n",
            "Epoch 78/100\n",
            "65/65 [==============================] - 2s 30ms/step - loss: 1.3106 - mae: 1.7432 - accuracy: 0.0000e+00\n",
            "Epoch 79/100\n",
            "65/65 [==============================] - 2s 31ms/step - loss: 1.3115 - mae: 1.7443 - accuracy: 0.0000e+00\n",
            "Epoch 80/100\n",
            "65/65 [==============================] - 2s 31ms/step - loss: 1.3142 - mae: 1.7470 - accuracy: 0.0000e+00\n",
            "Epoch 81/100\n",
            "65/65 [==============================] - 2s 30ms/step - loss: 1.3088 - mae: 1.7415 - accuracy: 0.0000e+00\n",
            "Epoch 82/100\n",
            "65/65 [==============================] - 2s 30ms/step - loss: 1.3038 - mae: 1.7360 - accuracy: 0.0000e+00\n",
            "Epoch 83/100\n",
            "65/65 [==============================] - 2s 31ms/step - loss: 1.3050 - mae: 1.7372 - accuracy: 0.0000e+00\n",
            "Epoch 84/100\n",
            "65/65 [==============================] - 2s 30ms/step - loss: 1.3099 - mae: 1.7425 - accuracy: 0.0000e+00\n",
            "Epoch 85/100\n",
            "65/65 [==============================] - 2s 30ms/step - loss: 1.3059 - mae: 1.7384 - accuracy: 0.0000e+00\n",
            "Epoch 86/100\n",
            "65/65 [==============================] - 2s 30ms/step - loss: 1.3035 - mae: 1.7358 - accuracy: 0.0000e+00\n",
            "Epoch 87/100\n",
            "65/65 [==============================] - 2s 30ms/step - loss: 1.3044 - mae: 1.7368 - accuracy: 0.0000e+00\n",
            "Epoch 88/100\n",
            "65/65 [==============================] - 2s 30ms/step - loss: 1.3019 - mae: 1.7343 - accuracy: 0.0000e+00\n",
            "Epoch 89/100\n",
            "65/65 [==============================] - 2s 31ms/step - loss: 1.2999 - mae: 1.7321 - accuracy: 0.0000e+00\n",
            "Epoch 90/100\n",
            "65/65 [==============================] - 2s 33ms/step - loss: 1.3006 - mae: 1.7330 - accuracy: 0.0000e+00\n",
            "Epoch 91/100\n",
            "65/65 [==============================] - 2s 30ms/step - loss: 1.3104 - mae: 1.7431 - accuracy: 0.0000e+00\n",
            "Epoch 92/100\n",
            "65/65 [==============================] - 2s 30ms/step - loss: 1.3042 - mae: 1.7367 - accuracy: 0.0000e+00\n",
            "Epoch 93/100\n",
            "65/65 [==============================] - 2s 30ms/step - loss: 1.3024 - mae: 1.7350 - accuracy: 0.0000e+00\n",
            "Epoch 94/100\n",
            "65/65 [==============================] - 2s 30ms/step - loss: 1.2993 - mae: 1.7315 - accuracy: 0.0000e+00\n",
            "Epoch 95/100\n",
            "65/65 [==============================] - 2s 30ms/step - loss: 1.2994 - mae: 1.7318 - accuracy: 0.0000e+00\n",
            "Epoch 96/100\n",
            "65/65 [==============================] - 2s 31ms/step - loss: 1.3007 - mae: 1.7330 - accuracy: 0.0000e+00\n",
            "Epoch 97/100\n",
            "65/65 [==============================] - 2s 30ms/step - loss: 1.3003 - mae: 1.7324 - accuracy: 0.0000e+00\n",
            "Epoch 98/100\n",
            "65/65 [==============================] - 2s 31ms/step - loss: 1.2982 - mae: 1.7305 - accuracy: 0.0000e+00\n",
            "Epoch 99/100\n",
            "65/65 [==============================] - 2s 31ms/step - loss: 1.2964 - mae: 1.7285 - accuracy: 0.0000e+00\n",
            "Epoch 100/100\n",
            "65/65 [==============================] - 2s 31ms/step - loss: 1.2966 - mae: 1.7288 - accuracy: 0.0000e+00\n"
          ],
          "name": "stdout"
        }
      ]
    },
    {
      "cell_type": "code",
      "metadata": {
        "colab": {
          "base_uri": "https://localhost:8080/"
        },
        "id": "GaC6NNMRp0lb",
        "outputId": "68c588be-5653-413e-e0e7-0de949d3b5cc"
      },
      "source": [
        "rnn_forecast = model_forecast(model, series[..., np.newaxis], 60)\n",
        "print(rnn_forecast.shape)\n",
        "rnn_forecast = rnn_forecast[split_time-60:-1, -1, 0]\n",
        "print(rnn_forecast.shape)"
      ],
      "execution_count": null,
      "outputs": [
        {
          "output_type": "stream",
          "text": [
            "(15639, 60, 1)\n",
            "(2698,)\n"
          ],
          "name": "stdout"
        }
      ]
    },
    {
      "cell_type": "code",
      "metadata": {
        "colab": {
          "base_uri": "https://localhost:8080/",
          "height": 387
        },
        "id": "PrktQX3hKYex",
        "outputId": "19789143-42cc-4248-d0f9-dc2e816428ed"
      },
      "source": [
        "plt.figure(figsize=(10, 6))\n",
        "plot_series(time_valid, x_valid)\n",
        "plot_series(time_valid, rnn_forecast)"
      ],
      "execution_count": null,
      "outputs": [
        {
          "output_type": "display_data",
          "data": {
            "image/png": "[encoded data removed]",
            "text/plain": [
              "<Figure size 720x432 with 1 Axes>"
            ]
          },
          "metadata": {
            "tags": [],
            "needs_background": "light"
          }
        }
      ]
    },
    {
      "cell_type": "code",
      "metadata": {
        "colab": {
          "base_uri": "https://localhost:8080/"
        },
        "id": "13XrorC5wQoE",
        "outputId": "4592e0a1-c97c-4002-bf38-1d46fc80dfe3"
      },
      "source": [
        "tf.keras.metrics.mean_absolute_error(x_valid, rnn_forecast).numpy()"
      ],
      "execution_count": null,
      "outputs": [
        {
          "output_type": "execute_result",
          "data": {
            "text/plain": [
              "1.5016103"
            ]
          },
          "metadata": {
            "tags": []
          },
          "execution_count": 66
        }
      ]
    },
    {
      "cell_type": "code",
      "metadata": {
        "colab": {
          "base_uri": "https://localhost:8080/",
          "height": 608
        },
        "id": "MD2kyYUVt3O0",
        "outputId": "9e4da902-63f1-4432-bc99-024c7a4fd74a"
      },
      "source": [
        "import matplotlib.image  as mpimg\n",
        "import matplotlib.pyplot as plt\n",
        "\n",
        "#-----------------------------------------------------------\n",
        "# Retrieve a list of list results on training and test data\n",
        "# sets for each training epoch\n",
        "#-----------------------------------------------------------\n",
        "loss=history.history['loss']\n",
        "\n",
        "epochs=range(len(loss)) # Get number of epochs\n",
        "\n",
        "\n",
        "#------------------------------------------------\n",
        "# Plot training and validation loss per epoch\n",
        "#------------------------------------------------\n",
        "plt.plot(epochs, loss, 'r')\n",
        "plt.title('Training loss')\n",
        "plt.xlabel(\"Epochs\")\n",
        "plt.ylabel(\"Loss\")\n",
        "plt.legend([\"Loss\"])\n",
        "\n",
        "plt.figure()\n",
        "\n",
        "\n",
        "\n",
        "zoomed_loss = loss[50:]\n",
        "zoomed_epochs = range(50,100)\n",
        "\n",
        "\n",
        "#------------------------------------------------\n",
        "# Plot training and validation loss per epoch\n",
        "#------------------------------------------------\n",
        "plt.plot(zoomed_epochs, zoomed_loss, 'r')\n",
        "plt.title('Training loss')\n",
        "plt.xlabel(\"Epochs\")\n",
        "plt.ylabel(\"Loss\")\n",
        "plt.legend([\"Loss\"])\n",
        "\n",
        "plt.figure()"
      ],
      "execution_count": null,
      "outputs": [
        {
          "output_type": "execute_result",
          "data": {
            "text/plain": [
              "<Figure size 432x288 with 0 Axes>"
            ]
          },
          "metadata": {
            "tags": []
          },
          "execution_count": 67
        },
        {
          "output_type": "display_data",
          "data": {
            "image/png": "[encoded data removed]",
            "text/plain": [
              "<Figure size 432x288 with 1 Axes>"
            ]
          },
          "metadata": {
            "tags": [],
            "needs_background": "light"
          }
        },
        {
          "output_type": "display_data",
          "data": {
            "image/png": "[encoded data removed]",
            "text/plain": [
              "<Figure size 432x288 with 1 Axes>"
            ]
          },
          "metadata": {
            "tags": [],
            "needs_background": "light"
          }
        },
        {
          "output_type": "display_data",
          "data": {
            "text/plain": [
              "<Figure size 432x288 with 0 Axes>"
            ]
          },
          "metadata": {
            "tags": []
          }
        }
      ]
    },
    {
      "cell_type": "code",
      "metadata": {
        "colab": {
          "base_uri": "https://localhost:8080/"
        },
        "id": "AOVzQXxCwkzP",
        "outputId": "36a26195-0fa5-472e-b908-a46dba18247b"
      },
      "source": [
        "print(rnn_forecast.shape, x_valid.shape)"
      ],
      "execution_count": null,
      "outputs": [
        {
          "output_type": "stream",
          "text": [
            "(2698,) (2698,)\n"
          ],
          "name": "stdout"
        }
      ]
    },
    {
      "cell_type": "code",
      "metadata": {
        "id": "0Etv0fJRPfss",
        "colab": {
          "base_uri": "https://localhost:8080/"
        },
        "outputId": "27ba0747-3d1b-4a7b-ccb6-86dcab4cd29a"
      },
      "source": [
        "print(rnn_forecast)"
      ],
      "execution_count": null,
      "outputs": [
        {
          "output_type": "stream",
          "text": [
            "[86.8287   86.71445  87.208435 ... 91.40314  91.11555  91.03273 ]\n"
          ],
          "name": "stdout"
        }
      ]
    },
    {
      "cell_type": "code",
      "metadata": {
        "id": "OwOLEJX9DyvO"
      },
      "source": [
        "import time\n",
        "saved_model_path = \"/tmp/saved_model/{}.h5\".format(int(time.time()))\n",
        "\n",
        "model.save(saved_model_path)"
      ],
      "execution_count": null,
      "outputs": []
    },
    {
      "cell_type": "code",
      "metadata": {
        "colab": {
          "base_uri": "https://localhost:8080/"
        },
        "id": "Rw0sgQmkBSdY",
        "outputId": "4c03d366-af7c-4c38-cf37-f5224beca4e9"
      },
      "source": [
        "!tensorflowjs_converter --input_format=keras {saved_model_path} /tmp/converted_model_maxterm"
      ],
      "execution_count": null,
      "outputs": [
        {
          "output_type": "stream",
          "text": [
            "2021-06-07 12:47:44.449629: I tensorflow/stream_executor/platform/default/dso_loader.cc:53] Successfully opened dynamic library libcudart.so.11.0\n"
          ],
          "name": "stdout"
        }
      ]
    },
    {
      "cell_type": "code",
      "metadata": {
        "id": "NttawkxrGF43"
      },
      "source": [
        ""
      ],
      "execution_count": null,
      "outputs": []
    }
  ]
}
