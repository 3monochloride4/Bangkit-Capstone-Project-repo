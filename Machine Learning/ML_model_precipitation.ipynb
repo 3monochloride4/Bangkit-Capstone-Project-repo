{
  "nbformat": 4,
  "nbformat_minor": 0,
  "metadata": {
    "accelerator": "GPU",
    "colab": {
      "name": "ML_model_precipitation.ipynb",
      "provenance": [],
      "collapsed_sections": [],
      "include_colab_link": true
    },
    "kernelspec": {
      "display_name": "Python 3",
      "name": "python3"
    }
  },
  "cells": [
    {
      "cell_type": "markdown",
      "metadata": {
        "id": "view-in-github",
        "colab_type": "text"
      },
      "source": [
        "<a href=\"https://colab.research.google.com/github/3monochloride4/Bangkit-Capstone-Project-repo/blob/main/ML_model_precipitation.ipynb\" target=\"_parent\"><img src=\"https://colab.research.google.com/assets/colab-badge.svg\" alt=\"Open In Colab\"/></a>"
      ]
    },
    {
      "cell_type": "code",
      "metadata": {
        "colab": {
          "base_uri": "https://localhost:8080/"
        },
        "id": "56XEQOGknrAk",
        "outputId": "0dff8375-5073-4ede-f895-6e693cba6d25"
      },
      "source": [
        "import tensorflow as tf\n",
        "!pip install tensorflowjs"
      ],
      "execution_count": null,
      "outputs": [
        {
          "output_type": "stream",
          "text": [
            "Collecting tensorflowjs\n",
            "\u001b[?25l  Downloading https://files.pythonhosted.org/packages/51/19/5ab51223cb178ab0f44fbc2ac494d015da135c70603a13eecb2328a59000/tensorflowjs-3.7.0-py3-none-any.whl (64kB)\n",
            "\r\u001b[K     |█████                           | 10kB 19.5MB/s eta 0:00:01\r\u001b[K     |██████████▏                     | 20kB 26.1MB/s eta 0:00:01\r\u001b[K     |███████████████▏                | 30kB 31.7MB/s eta 0:00:01\r\u001b[K     |████████████████████▎           | 40kB 27.3MB/s eta 0:00:01\r\u001b[K     |█████████████████████████▎      | 51kB 22.7MB/s eta 0:00:01\r\u001b[K     |██████████████████████████████▍ | 61kB 23.2MB/s eta 0:00:01\r\u001b[K     |████████████████████████████████| 71kB 8.2MB/s \n",
            "\u001b[?25hRequirement already satisfied: six<2,>=1.12.0 in /usr/local/lib/python3.7/dist-packages (from tensorflowjs) (1.15.0)\n",
            "Requirement already satisfied: tensorflow-hub<0.13,>=0.7.0; python_version >= \"3\" in /usr/local/lib/python3.7/dist-packages (from tensorflowjs) (0.12.0)\n",
            "Requirement already satisfied: tensorflow<3,>=2.1.0 in /usr/local/lib/python3.7/dist-packages (from tensorflowjs) (2.5.0)\n",
            "Requirement already satisfied: protobuf>=3.8.0 in /usr/local/lib/python3.7/dist-packages (from tensorflow-hub<0.13,>=0.7.0; python_version >= \"3\"->tensorflowjs) (3.12.4)\n",
            "Requirement already satisfied: numpy>=1.12.0 in /usr/local/lib/python3.7/dist-packages (from tensorflow-hub<0.13,>=0.7.0; python_version >= \"3\"->tensorflowjs) (1.19.5)\n",
            "Requirement already satisfied: flatbuffers~=1.12.0 in /usr/local/lib/python3.7/dist-packages (from tensorflow<3,>=2.1.0->tensorflowjs) (1.12)\n",
            "Requirement already satisfied: h5py~=3.1.0 in /usr/local/lib/python3.7/dist-packages (from tensorflow<3,>=2.1.0->tensorflowjs) (3.1.0)\n",
            "Requirement already satisfied: tensorflow-estimator<2.6.0,>=2.5.0rc0 in /usr/local/lib/python3.7/dist-packages (from tensorflow<3,>=2.1.0->tensorflowjs) (2.5.0)\n",
            "Requirement already satisfied: grpcio~=1.34.0 in /usr/local/lib/python3.7/dist-packages (from tensorflow<3,>=2.1.0->tensorflowjs) (1.34.1)\n",
            "Requirement already satisfied: absl-py~=0.10 in /usr/local/lib/python3.7/dist-packages (from tensorflow<3,>=2.1.0->tensorflowjs) (0.12.0)\n",
            "Requirement already satisfied: gast==0.4.0 in /usr/local/lib/python3.7/dist-packages (from tensorflow<3,>=2.1.0->tensorflowjs) (0.4.0)\n",
            "Requirement already satisfied: tensorboard~=2.5 in /usr/local/lib/python3.7/dist-packages (from tensorflow<3,>=2.1.0->tensorflowjs) (2.5.0)\n",
            "Requirement already satisfied: keras-nightly~=2.5.0.dev in /usr/local/lib/python3.7/dist-packages (from tensorflow<3,>=2.1.0->tensorflowjs) (2.5.0.dev2021032900)\n",
            "Requirement already satisfied: wheel~=0.35 in /usr/local/lib/python3.7/dist-packages (from tensorflow<3,>=2.1.0->tensorflowjs) (0.36.2)\n",
            "Requirement already satisfied: termcolor~=1.1.0 in /usr/local/lib/python3.7/dist-packages (from tensorflow<3,>=2.1.0->tensorflowjs) (1.1.0)\n",
            "Requirement already satisfied: wrapt~=1.12.1 in /usr/local/lib/python3.7/dist-packages (from tensorflow<3,>=2.1.0->tensorflowjs) (1.12.1)\n",
            "Requirement already satisfied: astunparse~=1.6.3 in /usr/local/lib/python3.7/dist-packages (from tensorflow<3,>=2.1.0->tensorflowjs) (1.6.3)\n",
            "Requirement already satisfied: keras-preprocessing~=1.1.2 in /usr/local/lib/python3.7/dist-packages (from tensorflow<3,>=2.1.0->tensorflowjs) (1.1.2)\n",
            "Requirement already satisfied: opt-einsum~=3.3.0 in /usr/local/lib/python3.7/dist-packages (from tensorflow<3,>=2.1.0->tensorflowjs) (3.3.0)\n",
            "Requirement already satisfied: typing-extensions~=3.7.4 in /usr/local/lib/python3.7/dist-packages (from tensorflow<3,>=2.1.0->tensorflowjs) (3.7.4.3)\n",
            "Requirement already satisfied: google-pasta~=0.2 in /usr/local/lib/python3.7/dist-packages (from tensorflow<3,>=2.1.0->tensorflowjs) (0.2.0)\n",
            "Requirement already satisfied: setuptools in /usr/local/lib/python3.7/dist-packages (from protobuf>=3.8.0->tensorflow-hub<0.13,>=0.7.0; python_version >= \"3\"->tensorflowjs) (57.0.0)\n",
            "Requirement already satisfied: cached-property; python_version < \"3.8\" in /usr/local/lib/python3.7/dist-packages (from h5py~=3.1.0->tensorflow<3,>=2.1.0->tensorflowjs) (1.5.2)\n",
            "Requirement already satisfied: werkzeug>=0.11.15 in /usr/local/lib/python3.7/dist-packages (from tensorboard~=2.5->tensorflow<3,>=2.1.0->tensorflowjs) (1.0.1)\n",
            "Requirement already satisfied: tensorboard-plugin-wit>=1.6.0 in /usr/local/lib/python3.7/dist-packages (from tensorboard~=2.5->tensorflow<3,>=2.1.0->tensorflowjs) (1.8.0)\n",
            "Requirement already satisfied: tensorboard-data-server<0.7.0,>=0.6.0 in /usr/local/lib/python3.7/dist-packages (from tensorboard~=2.5->tensorflow<3,>=2.1.0->tensorflowjs) (0.6.1)\n",
            "Requirement already satisfied: requests<3,>=2.21.0 in /usr/local/lib/python3.7/dist-packages (from tensorboard~=2.5->tensorflow<3,>=2.1.0->tensorflowjs) (2.23.0)\n",
            "Requirement already satisfied: markdown>=2.6.8 in /usr/local/lib/python3.7/dist-packages (from tensorboard~=2.5->tensorflow<3,>=2.1.0->tensorflowjs) (3.3.4)\n",
            "Requirement already satisfied: google-auth-oauthlib<0.5,>=0.4.1 in /usr/local/lib/python3.7/dist-packages (from tensorboard~=2.5->tensorflow<3,>=2.1.0->tensorflowjs) (0.4.4)\n",
            "Requirement already satisfied: google-auth<2,>=1.6.3 in /usr/local/lib/python3.7/dist-packages (from tensorboard~=2.5->tensorflow<3,>=2.1.0->tensorflowjs) (1.30.0)\n",
            "Requirement already satisfied: chardet<4,>=3.0.2 in /usr/local/lib/python3.7/dist-packages (from requests<3,>=2.21.0->tensorboard~=2.5->tensorflow<3,>=2.1.0->tensorflowjs) (3.0.4)\n",
            "Requirement already satisfied: urllib3!=1.25.0,!=1.25.1,<1.26,>=1.21.1 in /usr/local/lib/python3.7/dist-packages (from requests<3,>=2.21.0->tensorboard~=2.5->tensorflow<3,>=2.1.0->tensorflowjs) (1.24.3)\n",
            "Requirement already satisfied: idna<3,>=2.5 in /usr/local/lib/python3.7/dist-packages (from requests<3,>=2.21.0->tensorboard~=2.5->tensorflow<3,>=2.1.0->tensorflowjs) (2.10)\n",
            "Requirement already satisfied: certifi>=2017.4.17 in /usr/local/lib/python3.7/dist-packages (from requests<3,>=2.21.0->tensorboard~=2.5->tensorflow<3,>=2.1.0->tensorflowjs) (2020.12.5)\n",
            "Requirement already satisfied: importlib-metadata; python_version < \"3.8\" in /usr/local/lib/python3.7/dist-packages (from markdown>=2.6.8->tensorboard~=2.5->tensorflow<3,>=2.1.0->tensorflowjs) (4.0.1)\n",
            "Requirement already satisfied: requests-oauthlib>=0.7.0 in /usr/local/lib/python3.7/dist-packages (from google-auth-oauthlib<0.5,>=0.4.1->tensorboard~=2.5->tensorflow<3,>=2.1.0->tensorflowjs) (1.3.0)\n",
            "Requirement already satisfied: rsa<5,>=3.1.4; python_version >= \"3.6\" in /usr/local/lib/python3.7/dist-packages (from google-auth<2,>=1.6.3->tensorboard~=2.5->tensorflow<3,>=2.1.0->tensorflowjs) (4.7.2)\n",
            "Requirement already satisfied: pyasn1-modules>=0.2.1 in /usr/local/lib/python3.7/dist-packages (from google-auth<2,>=1.6.3->tensorboard~=2.5->tensorflow<3,>=2.1.0->tensorflowjs) (0.2.8)\n",
            "Requirement already satisfied: cachetools<5.0,>=2.0.0 in /usr/local/lib/python3.7/dist-packages (from google-auth<2,>=1.6.3->tensorboard~=2.5->tensorflow<3,>=2.1.0->tensorflowjs) (4.2.2)\n",
            "Requirement already satisfied: zipp>=0.5 in /usr/local/lib/python3.7/dist-packages (from importlib-metadata; python_version < \"3.8\"->markdown>=2.6.8->tensorboard~=2.5->tensorflow<3,>=2.1.0->tensorflowjs) (3.4.1)\n",
            "Requirement already satisfied: oauthlib>=3.0.0 in /usr/local/lib/python3.7/dist-packages (from requests-oauthlib>=0.7.0->google-auth-oauthlib<0.5,>=0.4.1->tensorboard~=2.5->tensorflow<3,>=2.1.0->tensorflowjs) (3.1.0)\n",
            "Requirement already satisfied: pyasn1>=0.1.3 in /usr/local/lib/python3.7/dist-packages (from rsa<5,>=3.1.4; python_version >= \"3.6\"->google-auth<2,>=1.6.3->tensorboard~=2.5->tensorflow<3,>=2.1.0->tensorflowjs) (0.4.8)\n",
            "Installing collected packages: tensorflowjs\n",
            "Successfully installed tensorflowjs-3.7.0\n"
          ],
          "name": "stdout"
        }
      ]
    },
    {
      "cell_type": "code",
      "metadata": {
        "id": "sLl52leVp5wU"
      },
      "source": [
        "import numpy as np\n",
        "import matplotlib.pyplot as plt\n",
        "def plot_series(time, series, format=\"-\", start=0, end=None):\n",
        "    plt.plot(time[start:end], series[start:end], format)\n",
        "    plt.xlabel(\"Time\")\n",
        "    plt.ylabel(\"Value\")\n",
        "    plt.grid(True)"
      ],
      "execution_count": null,
      "outputs": []
    },
    {
      "cell_type": "code",
      "metadata": {
        "colab": {
          "base_uri": "https://localhost:8080/",
          "height": 387
        },
        "id": "NcG9r1eClbTh",
        "outputId": "ecff2070-3e53-4d5f-d3cf-b4cf301f8911"
      },
      "source": [
        "import csv\n",
        "i=1\n",
        "time_step = []\n",
        "precipitation = []\n",
        "\n",
        "with open('/tmp/datasetCuacaSmg1957-2021fix.csv') as csvfile:\n",
        "  reader = csv.reader(csvfile, delimiter=',')\n",
        "  next(reader)\n",
        "  for row in reader:\n",
        "    precipitation.append(float(row[4]))\n",
        "    time_step.append(i)\n",
        "    i+=1\n",
        "\n",
        "series = np.array(precipitation)\n",
        "time = np.array(time_step)\n",
        "plt.figure(figsize=(10, 6))\n",
        "plot_series(time, series)"
      ],
      "execution_count": null,
      "outputs": [
        {
          "output_type": "display_data",
          "data": {
            "image/png": "[encoded data removed]",
            "text/plain": [
              "<Figure size 720x432 with 1 Axes>"
            ]
          },
          "metadata": {
            "tags": [],
            "needs_background": "light"
          }
        }
      ]
    },
    {
      "cell_type": "code",
      "metadata": {
        "id": "L92YRw_IpCFG"
      },
      "source": [
        "split_time = 15000\n",
        "time_train = time[:split_time]\n",
        "x_train = series[:split_time]\n",
        "time_valid = time[split_time:]\n",
        "x_valid = series[split_time:]\n",
        "\n",
        "window_size = 30\n",
        "batch_size = 32\n",
        "shuffle_buffer_size = 1000\n"
      ],
      "execution_count": null,
      "outputs": []
    },
    {
      "cell_type": "code",
      "metadata": {
        "id": "lJwUUZscnG38"
      },
      "source": [
        "def windowed_dataset(series, window_size, batch_size, shuffle_buffer):\n",
        "    series = tf.expand_dims(series, axis=-1)\n",
        "    ds = tf.data.Dataset.from_tensor_slices(series)\n",
        "    ds = ds.window(window_size + 1, shift=1, drop_remainder=True)\n",
        "    ds = ds.flat_map(lambda w: w.batch(window_size + 1))\n",
        "    ds = ds.shuffle(shuffle_buffer)\n",
        "    ds = ds.map(lambda w: (w[:-1], w[1:]))\n",
        "    return ds.batch(batch_size).prefetch(1)"
      ],
      "execution_count": null,
      "outputs": []
    },
    {
      "cell_type": "code",
      "metadata": {
        "id": "4XwGrf-A_wF0"
      },
      "source": [
        "def model_forecast(model, series, window_size):\n",
        "    ds = tf.data.Dataset.from_tensor_slices(series)\n",
        "    ds = ds.window(window_size, shift=1, drop_remainder=True)\n",
        "    ds = ds.flat_map(lambda w: w.batch(window_size))\n",
        "    ds = ds.batch(32).prefetch(1)\n",
        "    forecast = model.predict(ds)\n",
        "    return forecast"
      ],
      "execution_count": null,
      "outputs": []
    },
    {
      "cell_type": "code",
      "metadata": {
        "colab": {
          "base_uri": "https://localhost:8080/"
        },
        "id": "AclfYY3Mn6Ph",
        "outputId": "89d9e99e-8392-4974-a98f-f4b561248a61"
      },
      "source": [
        "tf.keras.backend.clear_session()\n",
        "tf.random.set_seed(51)\n",
        "np.random.seed(51)\n",
        "window_size = 80\n",
        "batch_size = 200\n",
        "train_set = windowed_dataset(x_train, window_size, batch_size, shuffle_buffer_size)\n",
        "print(train_set)\n",
        "print(x_train.shape)\n",
        "\n",
        "model = tf.keras.models.Sequential([\n",
        "  tf.keras.layers.Conv1D(filters=32, kernel_size=5,\n",
        "                      strides=1, padding=\"causal\",\n",
        "                      activation=\"relu\",\n",
        "                      input_shape=[None, 1]),\n",
        "  tf.keras.layers.LSTM(64, return_sequences=True),\n",
        "  tf.keras.layers.LSTM(64, return_sequences=True),\n",
        "  tf.keras.layers.Dense(30, activation=\"relu\"),\n",
        "  tf.keras.layers.Dense(10, activation=\"relu\"),\n",
        "  tf.keras.layers.Dense(1),\n",
        "  tf.keras.layers.Lambda(lambda x: x * 400)\n",
        "])\n",
        "\n",
        "lr_schedule = tf.keras.callbacks.LearningRateScheduler(\n",
        "    lambda epoch: 1e-8 * 10**(epoch / 20))\n",
        "optimizer = tf.keras.optimizers.SGD(lr=1e-8, momentum=0.9)\n",
        "model.compile(loss=tf.keras.losses.Huber(),\n",
        "              optimizer=optimizer,\n",
        "              metrics=[\"mae\"])\n",
        "history = model.fit(train_set, epochs=100, callbacks=[lr_schedule])\n"
      ],
      "execution_count": null,
      "outputs": [
        {
          "output_type": "stream",
          "text": [
            "<PrefetchDataset shapes: ((None, None, 1), (None, None, 1)), types: (tf.float64, tf.float64)>\n",
            "(15000,)\n"
          ],
          "name": "stdout"
        },
        {
          "output_type": "stream",
          "text": [
            "/usr/local/lib/python3.7/dist-packages/tensorflow/python/keras/optimizer_v2/optimizer_v2.py:375: UserWarning: The `lr` argument is deprecated, use `learning_rate` instead.\n",
            "  \"The `lr` argument is deprecated, use `learning_rate` instead.\")\n"
          ],
          "name": "stderr"
        },
        {
          "output_type": "stream",
          "text": [
            "Epoch 1/100\n",
            "75/75 [==============================] - 37s 33ms/step - loss: 0.5699 - mae: 0.8639\n",
            "Epoch 2/100\n",
            "75/75 [==============================] - 2s 32ms/step - loss: 0.5211 - mae: 0.8417\n",
            "Epoch 3/100\n",
            "75/75 [==============================] - 3s 32ms/step - loss: 0.4907 - mae: 0.8055\n",
            "Epoch 4/100\n",
            "75/75 [==============================] - 3s 32ms/step - loss: 0.4614 - mae: 0.7620\n",
            "Epoch 5/100\n",
            "75/75 [==============================] - 3s 33ms/step - loss: 0.4336 - mae: 0.7182\n",
            "Epoch 6/100\n",
            "75/75 [==============================] - 3s 32ms/step - loss: 0.4075 - mae: 0.6756\n",
            "Epoch 7/100\n",
            "75/75 [==============================] - 3s 32ms/step - loss: 0.3830 - mae: 0.6349\n",
            "Epoch 8/100\n",
            "75/75 [==============================] - 3s 32ms/step - loss: 0.3597 - mae: 0.6010\n",
            "Epoch 9/100\n",
            "75/75 [==============================] - 3s 33ms/step - loss: 0.3380 - mae: 0.5751\n",
            "Epoch 10/100\n",
            "75/75 [==============================] - 3s 32ms/step - loss: 0.3182 - mae: 0.5549\n",
            "Epoch 11/100\n",
            "75/75 [==============================] - 3s 32ms/step - loss: 0.3002 - mae: 0.5356\n",
            "Epoch 12/100\n",
            "75/75 [==============================] - 3s 33ms/step - loss: 0.2836 - mae: 0.5168\n",
            "Epoch 13/100\n",
            "75/75 [==============================] - 3s 33ms/step - loss: 0.2688 - mae: 0.4987\n",
            "Epoch 14/100\n",
            "75/75 [==============================] - 3s 33ms/step - loss: 0.2554 - mae: 0.4808\n",
            "Epoch 15/100\n",
            "75/75 [==============================] - 3s 32ms/step - loss: 0.2430 - mae: 0.4636\n",
            "Epoch 16/100\n",
            "75/75 [==============================] - 3s 33ms/step - loss: 0.2318 - mae: 0.4474\n",
            "Epoch 17/100\n",
            "75/75 [==============================] - 3s 33ms/step - loss: 0.2215 - mae: 0.4334\n",
            "Epoch 18/100\n",
            "75/75 [==============================] - 3s 32ms/step - loss: 0.2121 - mae: 0.4231\n",
            "Epoch 19/100\n",
            "75/75 [==============================] - 3s 33ms/step - loss: 0.2037 - mae: 0.4146\n",
            "Epoch 20/100\n",
            "75/75 [==============================] - 3s 33ms/step - loss: 0.1962 - mae: 0.4072\n",
            "Epoch 21/100\n",
            "75/75 [==============================] - 3s 33ms/step - loss: 0.1891 - mae: 0.4003\n",
            "Epoch 22/100\n",
            "75/75 [==============================] - 3s 33ms/step - loss: 0.1826 - mae: 0.3933\n",
            "Epoch 23/100\n",
            "75/75 [==============================] - 3s 33ms/step - loss: 0.1764 - mae: 0.3860\n",
            "Epoch 24/100\n",
            "75/75 [==============================] - 3s 32ms/step - loss: 0.1703 - mae: 0.3776\n",
            "Epoch 25/100\n",
            "75/75 [==============================] - 3s 32ms/step - loss: 0.1640 - mae: 0.3676\n",
            "Epoch 26/100\n",
            "75/75 [==============================] - 3s 32ms/step - loss: 0.1574 - mae: 0.3556\n",
            "Epoch 27/100\n",
            "75/75 [==============================] - 3s 33ms/step - loss: 0.1506 - mae: 0.3425\n",
            "Epoch 28/100\n",
            "75/75 [==============================] - 3s 32ms/step - loss: 0.1439 - mae: 0.3282\n",
            "Epoch 29/100\n",
            "75/75 [==============================] - 3s 33ms/step - loss: 0.1375 - mae: 0.3140\n",
            "Epoch 30/100\n",
            "75/75 [==============================] - 3s 32ms/step - loss: 0.1317 - mae: 0.3009\n",
            "Epoch 31/100\n",
            "75/75 [==============================] - 3s 33ms/step - loss: 0.1266 - mae: 0.2903\n",
            "Epoch 32/100\n",
            "75/75 [==============================] - 3s 33ms/step - loss: 0.1222 - mae: 0.2817\n",
            "Epoch 33/100\n",
            "75/75 [==============================] - 3s 33ms/step - loss: 0.1185 - mae: 0.2754\n",
            "Epoch 34/100\n",
            "75/75 [==============================] - 3s 33ms/step - loss: 0.1153 - mae: 0.2707\n",
            "Epoch 35/100\n",
            "75/75 [==============================] - 3s 33ms/step - loss: 0.1124 - mae: 0.2666\n",
            "Epoch 36/100\n",
            "75/75 [==============================] - 3s 33ms/step - loss: 0.1099 - mae: 0.2631\n",
            "Epoch 37/100\n",
            "75/75 [==============================] - 3s 33ms/step - loss: 0.1077 - mae: 0.2598\n",
            "Epoch 38/100\n",
            "75/75 [==============================] - 3s 33ms/step - loss: 0.1056 - mae: 0.2563\n",
            "Epoch 39/100\n",
            "75/75 [==============================] - 3s 33ms/step - loss: 0.1036 - mae: 0.2529\n",
            "Epoch 40/100\n",
            "75/75 [==============================] - 3s 33ms/step - loss: 0.1017 - mae: 0.2493\n",
            "Epoch 41/100\n",
            "75/75 [==============================] - 3s 33ms/step - loss: 0.0998 - mae: 0.2457\n",
            "Epoch 42/100\n",
            "75/75 [==============================] - 3s 32ms/step - loss: 0.0982 - mae: 0.2420\n",
            "Epoch 43/100\n",
            "75/75 [==============================] - 3s 33ms/step - loss: 0.0966 - mae: 0.2383\n",
            "Epoch 44/100\n",
            "75/75 [==============================] - 3s 33ms/step - loss: 0.0951 - mae: 0.2348\n",
            "Epoch 45/100\n",
            "75/75 [==============================] - 3s 32ms/step - loss: 0.0936 - mae: 0.2308\n",
            "Epoch 46/100\n",
            "75/75 [==============================] - 3s 33ms/step - loss: 0.0922 - mae: 0.2274\n",
            "Epoch 47/100\n",
            "75/75 [==============================] - 3s 33ms/step - loss: 0.0908 - mae: 0.2237\n",
            "Epoch 48/100\n",
            "75/75 [==============================] - 3s 35ms/step - loss: 0.0894 - mae: 0.2202\n",
            "Epoch 49/100\n",
            "75/75 [==============================] - 3s 33ms/step - loss: 0.0882 - mae: 0.2177\n",
            "Epoch 50/100\n",
            "75/75 [==============================] - 3s 33ms/step - loss: 0.0869 - mae: 0.2157\n",
            "Epoch 51/100\n",
            "75/75 [==============================] - 3s 32ms/step - loss: 0.0856 - mae: 0.2134\n",
            "Epoch 52/100\n",
            "75/75 [==============================] - 3s 32ms/step - loss: 0.0844 - mae: 0.2121\n",
            "Epoch 53/100\n",
            "75/75 [==============================] - 3s 33ms/step - loss: 0.0832 - mae: 0.2102\n",
            "Epoch 54/100\n",
            "75/75 [==============================] - 3s 32ms/step - loss: 0.0821 - mae: 0.2085\n",
            "Epoch 55/100\n",
            "75/75 [==============================] - 3s 32ms/step - loss: 0.0810 - mae: 0.2069\n",
            "Epoch 56/100\n",
            "75/75 [==============================] - 3s 33ms/step - loss: 0.0799 - mae: 0.2057\n",
            "Epoch 57/100\n",
            "75/75 [==============================] - 3s 33ms/step - loss: 0.0788 - mae: 0.2041\n",
            "Epoch 58/100\n",
            "75/75 [==============================] - 3s 33ms/step - loss: 0.0779 - mae: 0.2030\n",
            "Epoch 59/100\n",
            "75/75 [==============================] - 3s 33ms/step - loss: 0.0768 - mae: 0.2016\n",
            "Epoch 60/100\n",
            "75/75 [==============================] - 3s 33ms/step - loss: 0.0760 - mae: 0.2010\n",
            "Epoch 61/100\n",
            "75/75 [==============================] - 3s 33ms/step - loss: 0.0749 - mae: 0.2000\n",
            "Epoch 62/100\n",
            "75/75 [==============================] - 3s 33ms/step - loss: 0.0738 - mae: 0.1979\n",
            "Epoch 63/100\n",
            "75/75 [==============================] - 3s 34ms/step - loss: 0.0728 - mae: 0.1978\n",
            "Epoch 64/100\n",
            "75/75 [==============================] - 3s 33ms/step - loss: 0.0721 - mae: 0.1978\n",
            "Epoch 65/100\n",
            "75/75 [==============================] - 3s 33ms/step - loss: 0.0715 - mae: 0.1980\n",
            "Epoch 66/100\n",
            "75/75 [==============================] - 3s 33ms/step - loss: 0.0711 - mae: 0.1998\n",
            "Epoch 67/100\n",
            "75/75 [==============================] - 3s 32ms/step - loss: 0.0708 - mae: 0.2017\n",
            "Epoch 68/100\n",
            "75/75 [==============================] - 3s 33ms/step - loss: 0.0743 - mae: 0.2198\n",
            "Epoch 69/100\n",
            "75/75 [==============================] - 2s 32ms/step - loss: 0.2977 - mae: 0.6638\n",
            "Epoch 70/100\n",
            "75/75 [==============================] - 3s 32ms/step - loss: 2.9701 - mae: 3.4495\n",
            "Epoch 71/100\n",
            "75/75 [==============================] - 3s 33ms/step - loss: 3.9272 - mae: 4.3975\n",
            "Epoch 72/100\n",
            "75/75 [==============================] - 3s 33ms/step - loss: 8.2733 - mae: 8.7732\n",
            "Epoch 73/100\n",
            "75/75 [==============================] - 3s 32ms/step - loss: 9.3779 - mae: 9.8779\n",
            "Epoch 74/100\n",
            "75/75 [==============================] - 3s 33ms/step - loss: 7.2813 - mae: 7.7733\n",
            "Epoch 75/100\n",
            "75/75 [==============================] - 3s 33ms/step - loss: 7.2425 - mae: 7.7425\n",
            "Epoch 76/100\n",
            "75/75 [==============================] - 3s 33ms/step - loss: 6.7348 - mae: 7.2206\n",
            "Epoch 77/100\n",
            "75/75 [==============================] - 3s 33ms/step - loss: 10.0541 - mae: 10.5490\n",
            "Epoch 78/100\n",
            "75/75 [==============================] - 2s 31ms/step - loss: 8.3332 - mae: 8.8158\n",
            "Epoch 79/100\n",
            "75/75 [==============================] - 3s 32ms/step - loss: 6.0099 - mae: 6.5037\n",
            "Epoch 80/100\n",
            "75/75 [==============================] - 3s 32ms/step - loss: 7.0410 - mae: 7.5407\n",
            "Epoch 81/100\n",
            "75/75 [==============================] - 2s 32ms/step - loss: 7.9222 - mae: 8.4222\n",
            "Epoch 82/100\n",
            "75/75 [==============================] - 3s 33ms/step - loss: 21.3996 - mae: 21.8918\n",
            "Epoch 83/100\n",
            "75/75 [==============================] - 3s 32ms/step - loss: 11.9892 - mae: 12.4786\n",
            "Epoch 84/100\n",
            "75/75 [==============================] - 3s 33ms/step - loss: 11.3263 - mae: 11.8263\n",
            "Epoch 85/100\n",
            "75/75 [==============================] - 3s 33ms/step - loss: 25.9296 - mae: 26.4210\n",
            "Epoch 86/100\n",
            "75/75 [==============================] - 3s 33ms/step - loss: 26.8172 - mae: 27.3172\n",
            "Epoch 87/100\n",
            "75/75 [==============================] - 3s 33ms/step - loss: 23.7034 - mae: 24.2033\n",
            "Epoch 88/100\n",
            "75/75 [==============================] - 3s 32ms/step - loss: 33.9357 - mae: 34.4357\n",
            "Epoch 89/100\n",
            "75/75 [==============================] - 3s 33ms/step - loss: 29.9950 - mae: 30.4950\n",
            "Epoch 90/100\n",
            "75/75 [==============================] - 3s 33ms/step - loss: 42.8701 - mae: 43.3701\n",
            "Epoch 91/100\n",
            "75/75 [==============================] - 3s 32ms/step - loss: 37.9413 - mae: 38.4413\n",
            "Epoch 92/100\n",
            "75/75 [==============================] - 3s 33ms/step - loss: 53.9844 - mae: 54.4844\n",
            "Epoch 93/100\n",
            "75/75 [==============================] - 3s 33ms/step - loss: 51.1313 - mae: 51.6311\n",
            "Epoch 94/100\n",
            "75/75 [==============================] - 3s 33ms/step - loss: 121.3824 - mae: 121.8824\n",
            "Epoch 95/100\n",
            "75/75 [==============================] - 3s 33ms/step - loss: 60.7434 - mae: 61.2434\n",
            "Epoch 96/100\n",
            "75/75 [==============================] - 3s 34ms/step - loss: 73.5242 - mae: 74.0242\n",
            "Epoch 97/100\n",
            "75/75 [==============================] - 3s 32ms/step - loss: 110.8298 - mae: 111.3250\n",
            "Epoch 98/100\n",
            "75/75 [==============================] - 3s 32ms/step - loss: 86.0272 - mae: 86.5273\n",
            "Epoch 99/100\n",
            "75/75 [==============================] - 3s 32ms/step - loss: 95.6479 - mae: 96.1479\n",
            "Epoch 100/100\n",
            "75/75 [==============================] - 3s 33ms/step - loss: 110.7453 - mae: 111.2453\n"
          ],
          "name": "stdout"
        }
      ]
    },
    {
      "cell_type": "code",
      "metadata": {
        "colab": {
          "base_uri": "https://localhost:8080/",
          "height": 291
        },
        "id": "vVcKmg7Q_7rD",
        "outputId": "0a5ca79e-75cd-4692-ffcd-b505e48f0877"
      },
      "source": [
        "plt.semilogx(history.history[\"lr\"], history.history[\"loss\"])\n",
        "plt.axis([1e-8, 1e-4, 0, 20])"
      ],
      "execution_count": null,
      "outputs": [
        {
          "output_type": "execute_result",
          "data": {
            "text/plain": [
              "(1e-08, 0.0001, 0.0, 20.0)"
            ]
          },
          "metadata": {
            "tags": []
          },
          "execution_count": 13
        },
        {
          "output_type": "display_data",
          "data": {
            "image/png": "[encoded data removed]",
            "text/plain": [
              "<Figure size 432x288 with 1 Axes>"
            ]
          },
          "metadata": {
            "tags": [],
            "needs_background": "light"
          }
        }
      ]
    },
    {
      "cell_type": "code",
      "metadata": {
        "colab": {
          "base_uri": "https://localhost:8080/"
        },
        "id": "QsksvkcXAAgq",
        "outputId": "d3fdfa2a-793f-4f67-d201-b0dba05ecf16"
      },
      "source": [
        "tf.keras.backend.clear_session()\n",
        "tf.random.set_seed(51)\n",
        "np.random.seed(51)\n",
        "train_set = windowed_dataset(x_train, window_size=80, batch_size=200, shuffle_buffer=shuffle_buffer_size)\n",
        "model = tf.keras.models.Sequential([\n",
        "  tf.keras.layers.Conv1D(filters=60, kernel_size=5,\n",
        "                      strides=1, padding=\"causal\",\n",
        "                      activation=\"relu\",\n",
        "                      input_shape=[None, 1]),\n",
        "  tf.keras.layers.LSTM(60, return_sequences=True),\n",
        "  tf.keras.layers.LSTM(60, return_sequences=True),\n",
        "  tf.keras.layers.Dense(30, activation=\"relu\"),\n",
        "  tf.keras.layers.Dense(10, activation=\"relu\"),\n",
        "  tf.keras.layers.Dense(1),\n",
        "  tf.keras.layers.Lambda(lambda x: x * 400)\n",
        "])\n",
        "\n",
        "\n",
        "optimizer = tf.keras.optimizers.SGD(lr=1e-5, momentum=0.9)\n",
        "model.compile(loss=tf.keras.losses.Huber(),\n",
        "              optimizer=optimizer,\n",
        "              metrics=[\"mae\", 'accuracy'])\n",
        "history = model.fit(train_set,epochs=100)"
      ],
      "execution_count": null,
      "outputs": [
        {
          "output_type": "stream",
          "text": [
            "/usr/local/lib/python3.7/dist-packages/tensorflow/python/keras/optimizer_v2/optimizer_v2.py:375: UserWarning: The `lr` argument is deprecated, use `learning_rate` instead.\n",
            "  \"The `lr` argument is deprecated, use `learning_rate` instead.\")\n"
          ],
          "name": "stderr"
        },
        {
          "output_type": "stream",
          "text": [
            "Epoch 1/100\n",
            "75/75 [==============================] - 5s 33ms/step - loss: 0.1457 - mae: 0.3263 - accuracy: 0.7007\n",
            "Epoch 2/100\n",
            "75/75 [==============================] - 2s 31ms/step - loss: 0.0744 - mae: 0.2024 - accuracy: 0.7343\n",
            "Epoch 3/100\n",
            "75/75 [==============================] - 3s 33ms/step - loss: 0.0727 - mae: 0.1992 - accuracy: 0.7336\n",
            "Epoch 4/100\n",
            "75/75 [==============================] - 3s 34ms/step - loss: 0.0718 - mae: 0.1979 - accuracy: 0.7333\n",
            "Epoch 5/100\n",
            "75/75 [==============================] - 3s 34ms/step - loss: 0.0710 - mae: 0.1961 - accuracy: 0.7335\n",
            "Epoch 6/100\n",
            "75/75 [==============================] - 3s 34ms/step - loss: 0.0704 - mae: 0.1951 - accuracy: 0.7334\n",
            "Epoch 7/100\n",
            "75/75 [==============================] - 3s 34ms/step - loss: 0.0698 - mae: 0.1937 - accuracy: 0.7336\n",
            "Epoch 8/100\n",
            "75/75 [==============================] - 3s 34ms/step - loss: 0.0695 - mae: 0.1927 - accuracy: 0.7336\n",
            "Epoch 9/100\n",
            "75/75 [==============================] - 3s 33ms/step - loss: 0.0691 - mae: 0.1914 - accuracy: 0.7340\n",
            "Epoch 10/100\n",
            "75/75 [==============================] - 2s 32ms/step - loss: 0.0687 - mae: 0.1904 - accuracy: 0.7345\n",
            "Epoch 11/100\n",
            "75/75 [==============================] - 3s 33ms/step - loss: 0.0685 - mae: 0.1906 - accuracy: 0.7349\n",
            "Epoch 12/100\n",
            "75/75 [==============================] - 3s 33ms/step - loss: 0.0683 - mae: 0.1906 - accuracy: 0.7351\n",
            "Epoch 13/100\n",
            "75/75 [==============================] - 3s 33ms/step - loss: 0.0682 - mae: 0.1901 - accuracy: 0.7353\n",
            "Epoch 14/100\n",
            "75/75 [==============================] - 3s 33ms/step - loss: 0.0680 - mae: 0.1899 - accuracy: 0.7354\n",
            "Epoch 15/100\n",
            "75/75 [==============================] - 3s 32ms/step - loss: 0.0680 - mae: 0.1903 - accuracy: 0.7354\n",
            "Epoch 16/100\n",
            "75/75 [==============================] - 3s 33ms/step - loss: 0.0680 - mae: 0.1900 - accuracy: 0.7355\n",
            "Epoch 17/100\n",
            "75/75 [==============================] - 3s 33ms/step - loss: 0.0679 - mae: 0.1899 - accuracy: 0.7355\n",
            "Epoch 18/100\n",
            "75/75 [==============================] - 3s 33ms/step - loss: 0.0678 - mae: 0.1895 - accuracy: 0.7356\n",
            "Epoch 19/100\n",
            "75/75 [==============================] - 3s 32ms/step - loss: 0.0678 - mae: 0.1902 - accuracy: 0.7356\n",
            "Epoch 20/100\n",
            "75/75 [==============================] - 3s 34ms/step - loss: 0.0677 - mae: 0.1900 - accuracy: 0.7358\n",
            "Epoch 21/100\n",
            "75/75 [==============================] - 3s 33ms/step - loss: 0.0676 - mae: 0.1896 - accuracy: 0.7359\n",
            "Epoch 22/100\n",
            "75/75 [==============================] - 3s 32ms/step - loss: 0.0676 - mae: 0.1894 - accuracy: 0.7359\n",
            "Epoch 23/100\n",
            "75/75 [==============================] - 3s 34ms/step - loss: 0.0676 - mae: 0.1900 - accuracy: 0.7360\n",
            "Epoch 24/100\n",
            "75/75 [==============================] - 3s 33ms/step - loss: 0.0676 - mae: 0.1900 - accuracy: 0.7361\n",
            "Epoch 25/100\n",
            "75/75 [==============================] - 3s 32ms/step - loss: 0.0675 - mae: 0.1892 - accuracy: 0.7362\n",
            "Epoch 26/100\n",
            "75/75 [==============================] - 3s 32ms/step - loss: 0.0677 - mae: 0.1900 - accuracy: 0.7363\n",
            "Epoch 27/100\n",
            "75/75 [==============================] - 3s 34ms/step - loss: 0.0675 - mae: 0.1897 - accuracy: 0.7363\n",
            "Epoch 28/100\n",
            "75/75 [==============================] - 3s 33ms/step - loss: 0.0675 - mae: 0.1893 - accuracy: 0.7364\n",
            "Epoch 29/100\n",
            "75/75 [==============================] - 3s 34ms/step - loss: 0.0675 - mae: 0.1893 - accuracy: 0.7364\n",
            "Epoch 30/100\n",
            "75/75 [==============================] - 3s 32ms/step - loss: 0.0675 - mae: 0.1901 - accuracy: 0.7365\n",
            "Epoch 31/100\n",
            "75/75 [==============================] - 3s 32ms/step - loss: 0.0675 - mae: 0.1896 - accuracy: 0.7365\n",
            "Epoch 32/100\n",
            "75/75 [==============================] - 3s 33ms/step - loss: 0.0675 - mae: 0.1897 - accuracy: 0.7365\n",
            "Epoch 33/100\n",
            "75/75 [==============================] - 3s 33ms/step - loss: 0.0674 - mae: 0.1893 - accuracy: 0.7365\n",
            "Epoch 34/100\n",
            "75/75 [==============================] - 3s 33ms/step - loss: 0.0674 - mae: 0.1893 - accuracy: 0.7366\n",
            "Epoch 35/100\n",
            "75/75 [==============================] - 3s 32ms/step - loss: 0.0674 - mae: 0.1898 - accuracy: 0.7367\n",
            "Epoch 36/100\n",
            "75/75 [==============================] - 3s 34ms/step - loss: 0.0674 - mae: 0.1893 - accuracy: 0.7368\n",
            "Epoch 37/100\n",
            "75/75 [==============================] - 3s 33ms/step - loss: 0.0675 - mae: 0.1905 - accuracy: 0.7367\n",
            "Epoch 38/100\n",
            "75/75 [==============================] - 3s 33ms/step - loss: 0.0673 - mae: 0.1890 - accuracy: 0.7368\n",
            "Epoch 39/100\n",
            "75/75 [==============================] - 3s 33ms/step - loss: 0.0674 - mae: 0.1892 - accuracy: 0.7368\n",
            "Epoch 40/100\n",
            "75/75 [==============================] - 3s 33ms/step - loss: 0.0673 - mae: 0.1897 - accuracy: 0.7369\n",
            "Epoch 41/100\n",
            "75/75 [==============================] - 3s 33ms/step - loss: 0.0674 - mae: 0.1897 - accuracy: 0.7369\n",
            "Epoch 42/100\n",
            "75/75 [==============================] - 3s 33ms/step - loss: 0.0674 - mae: 0.1894 - accuracy: 0.7369\n",
            "Epoch 43/100\n",
            "75/75 [==============================] - 3s 33ms/step - loss: 0.0674 - mae: 0.1890 - accuracy: 0.7370\n",
            "Epoch 44/100\n",
            "75/75 [==============================] - 3s 34ms/step - loss: 0.0674 - mae: 0.1896 - accuracy: 0.7370\n",
            "Epoch 45/100\n",
            "75/75 [==============================] - 3s 33ms/step - loss: 0.0673 - mae: 0.1889 - accuracy: 0.7370\n",
            "Epoch 46/100\n",
            "75/75 [==============================] - 3s 33ms/step - loss: 0.0674 - mae: 0.1898 - accuracy: 0.7370\n",
            "Epoch 47/100\n",
            "75/75 [==============================] - 3s 33ms/step - loss: 0.0674 - mae: 0.1894 - accuracy: 0.7371\n",
            "Epoch 48/100\n",
            "75/75 [==============================] - 3s 32ms/step - loss: 0.0673 - mae: 0.1891 - accuracy: 0.7371\n",
            "Epoch 49/100\n",
            "75/75 [==============================] - 3s 33ms/step - loss: 0.0674 - mae: 0.1896 - accuracy: 0.7371\n",
            "Epoch 50/100\n",
            "75/75 [==============================] - 3s 34ms/step - loss: 0.0673 - mae: 0.1889 - accuracy: 0.7371\n",
            "Epoch 51/100\n",
            "75/75 [==============================] - 3s 33ms/step - loss: 0.0672 - mae: 0.1889 - accuracy: 0.7371\n",
            "Epoch 52/100\n",
            "75/75 [==============================] - 3s 32ms/step - loss: 0.0673 - mae: 0.1893 - accuracy: 0.7371\n",
            "Epoch 53/100\n",
            "75/75 [==============================] - 3s 33ms/step - loss: 0.0673 - mae: 0.1889 - accuracy: 0.7371\n",
            "Epoch 54/100\n",
            "75/75 [==============================] - 3s 33ms/step - loss: 0.0672 - mae: 0.1888 - accuracy: 0.7371\n",
            "Epoch 55/100\n",
            "75/75 [==============================] - 3s 33ms/step - loss: 0.0673 - mae: 0.1889 - accuracy: 0.7371\n",
            "Epoch 56/100\n",
            "75/75 [==============================] - 3s 33ms/step - loss: 0.0673 - mae: 0.1891 - accuracy: 0.7372\n",
            "Epoch 57/100\n",
            "75/75 [==============================] - 3s 33ms/step - loss: 0.0673 - mae: 0.1891 - accuracy: 0.7372\n",
            "Epoch 58/100\n",
            "75/75 [==============================] - 3s 34ms/step - loss: 0.0672 - mae: 0.1890 - accuracy: 0.7372\n",
            "Epoch 59/100\n",
            "75/75 [==============================] - 3s 33ms/step - loss: 0.0672 - mae: 0.1887 - accuracy: 0.7372\n",
            "Epoch 60/100\n",
            "75/75 [==============================] - 3s 32ms/step - loss: 0.0672 - mae: 0.1887 - accuracy: 0.7372\n",
            "Epoch 61/100\n",
            "75/75 [==============================] - 3s 34ms/step - loss: 0.0673 - mae: 0.1898 - accuracy: 0.7372\n",
            "Epoch 62/100\n",
            "75/75 [==============================] - 3s 32ms/step - loss: 0.0672 - mae: 0.1890 - accuracy: 0.7372\n",
            "Epoch 63/100\n",
            "75/75 [==============================] - 3s 34ms/step - loss: 0.0672 - mae: 0.1887 - accuracy: 0.7372\n",
            "Epoch 64/100\n",
            "75/75 [==============================] - 3s 33ms/step - loss: 0.0673 - mae: 0.1888 - accuracy: 0.7372\n",
            "Epoch 65/100\n",
            "75/75 [==============================] - 3s 32ms/step - loss: 0.0672 - mae: 0.1892 - accuracy: 0.7372\n",
            "Epoch 66/100\n",
            "75/75 [==============================] - 3s 33ms/step - loss: 0.0672 - mae: 0.1889 - accuracy: 0.7372\n",
            "Epoch 67/100\n",
            "75/75 [==============================] - 3s 33ms/step - loss: 0.0672 - mae: 0.1887 - accuracy: 0.7372\n",
            "Epoch 68/100\n",
            "75/75 [==============================] - 3s 33ms/step - loss: 0.0673 - mae: 0.1890 - accuracy: 0.7372\n",
            "Epoch 69/100\n",
            "75/75 [==============================] - 3s 34ms/step - loss: 0.0672 - mae: 0.1892 - accuracy: 0.7372\n",
            "Epoch 70/100\n",
            "75/75 [==============================] - 3s 34ms/step - loss: 0.0673 - mae: 0.1894 - accuracy: 0.7372\n",
            "Epoch 71/100\n",
            "75/75 [==============================] - 3s 33ms/step - loss: 0.0672 - mae: 0.1888 - accuracy: 0.7372\n",
            "Epoch 72/100\n",
            "75/75 [==============================] - 3s 33ms/step - loss: 0.0672 - mae: 0.1889 - accuracy: 0.7372\n",
            "Epoch 73/100\n",
            "75/75 [==============================] - 3s 33ms/step - loss: 0.0672 - mae: 0.1889 - accuracy: 0.7372\n",
            "Epoch 74/100\n",
            "75/75 [==============================] - 3s 33ms/step - loss: 0.0672 - mae: 0.1888 - accuracy: 0.7372\n",
            "Epoch 75/100\n",
            "75/75 [==============================] - 3s 33ms/step - loss: 0.0672 - mae: 0.1886 - accuracy: 0.7372\n",
            "Epoch 76/100\n",
            "75/75 [==============================] - 3s 34ms/step - loss: 0.0672 - mae: 0.1894 - accuracy: 0.7372\n",
            "Epoch 77/100\n",
            "75/75 [==============================] - 3s 33ms/step - loss: 0.0673 - mae: 0.1894 - accuracy: 0.7372\n",
            "Epoch 78/100\n",
            "75/75 [==============================] - 3s 33ms/step - loss: 0.0672 - mae: 0.1886 - accuracy: 0.7372\n",
            "Epoch 79/100\n",
            "75/75 [==============================] - 3s 33ms/step - loss: 0.0672 - mae: 0.1887 - accuracy: 0.7372\n",
            "Epoch 80/100\n",
            "75/75 [==============================] - 3s 34ms/step - loss: 0.0672 - mae: 0.1888 - accuracy: 0.7372\n",
            "Epoch 81/100\n",
            "75/75 [==============================] - 3s 33ms/step - loss: 0.0672 - mae: 0.1891 - accuracy: 0.7372\n",
            "Epoch 82/100\n",
            "75/75 [==============================] - 3s 33ms/step - loss: 0.0672 - mae: 0.1891 - accuracy: 0.7372\n",
            "Epoch 83/100\n",
            "75/75 [==============================] - 3s 33ms/step - loss: 0.0672 - mae: 0.1888 - accuracy: 0.7372\n",
            "Epoch 84/100\n",
            "75/75 [==============================] - 3s 32ms/step - loss: 0.0672 - mae: 0.1894 - accuracy: 0.7372\n",
            "Epoch 85/100\n",
            "75/75 [==============================] - 3s 33ms/step - loss: 0.0672 - mae: 0.1888 - accuracy: 0.7372\n",
            "Epoch 86/100\n",
            "75/75 [==============================] - 3s 33ms/step - loss: 0.0672 - mae: 0.1890 - accuracy: 0.7372\n",
            "Epoch 87/100\n",
            "75/75 [==============================] - 3s 33ms/step - loss: 0.0673 - mae: 0.1897 - accuracy: 0.7372\n",
            "Epoch 88/100\n",
            "75/75 [==============================] - 3s 33ms/step - loss: 0.0672 - mae: 0.1889 - accuracy: 0.7372\n",
            "Epoch 89/100\n",
            "75/75 [==============================] - 3s 34ms/step - loss: 0.0672 - mae: 0.1892 - accuracy: 0.7372\n",
            "Epoch 90/100\n",
            "75/75 [==============================] - 3s 34ms/step - loss: 0.0671 - mae: 0.1888 - accuracy: 0.7372\n",
            "Epoch 91/100\n",
            "75/75 [==============================] - 3s 32ms/step - loss: 0.0671 - mae: 0.1888 - accuracy: 0.7372\n",
            "Epoch 92/100\n",
            "75/75 [==============================] - 3s 32ms/step - loss: 0.0673 - mae: 0.1891 - accuracy: 0.7372\n",
            "Epoch 93/100\n",
            "75/75 [==============================] - 3s 34ms/step - loss: 0.0671 - mae: 0.1883 - accuracy: 0.7372\n",
            "Epoch 94/100\n",
            "75/75 [==============================] - 3s 33ms/step - loss: 0.0672 - mae: 0.1900 - accuracy: 0.7372\n",
            "Epoch 95/100\n",
            "75/75 [==============================] - 3s 32ms/step - loss: 0.0672 - mae: 0.1887 - accuracy: 0.7372\n",
            "Epoch 96/100\n",
            "75/75 [==============================] - 3s 33ms/step - loss: 0.0672 - mae: 0.1886 - accuracy: 0.7372\n",
            "Epoch 97/100\n",
            "75/75 [==============================] - 3s 34ms/step - loss: 0.0672 - mae: 0.1893 - accuracy: 0.7372\n",
            "Epoch 98/100\n",
            "75/75 [==============================] - 3s 33ms/step - loss: 0.0671 - mae: 0.1886 - accuracy: 0.7372\n",
            "Epoch 99/100\n",
            "75/75 [==============================] - 3s 33ms/step - loss: 0.0672 - mae: 0.1892 - accuracy: 0.7372\n",
            "Epoch 100/100\n",
            "75/75 [==============================] - 3s 33ms/step - loss: 0.0672 - mae: 0.1887 - accuracy: 0.7372\n"
          ],
          "name": "stdout"
        }
      ]
    },
    {
      "cell_type": "code",
      "metadata": {
        "colab": {
          "base_uri": "https://localhost:8080/"
        },
        "id": "GaC6NNMRp0lb",
        "outputId": "2b8b3931-765b-4902-96e1-705506dc1062"
      },
      "source": [
        "rnn_forecast = model_forecast(model, series[..., np.newaxis], 60)\n",
        "print(rnn_forecast.shape)\n",
        "rnn_forecast = rnn_forecast[split_time-60:-1, -1, 0]\n",
        "print(rnn_forecast.shape)"
      ],
      "execution_count": null,
      "outputs": [
        {
          "output_type": "stream",
          "text": [
            "(15639, 60, 1)\n",
            "(698,)\n"
          ],
          "name": "stdout"
        }
      ]
    },
    {
      "cell_type": "code",
      "metadata": {
        "colab": {
          "base_uri": "https://localhost:8080/",
          "height": 387
        },
        "id": "PrktQX3hKYex",
        "outputId": "4fa2eb77-d37b-49a4-a879-1ff99fcc471d"
      },
      "source": [
        "plt.figure(figsize=(10, 6))\n",
        "plot_series(time_valid, x_valid)\n",
        "plot_series(time_valid, rnn_forecast)"
      ],
      "execution_count": null,
      "outputs": [
        {
          "output_type": "display_data",
          "data": {
            "image/png": "[encoded data removed]",
            "text/plain": [
              "<Figure size 720x432 with 1 Axes>"
            ]
          },
          "metadata": {
            "tags": [],
            "needs_background": "light"
          }
        }
      ]
    },
    {
      "cell_type": "code",
      "metadata": {
        "colab": {
          "base_uri": "https://localhost:8080/"
        },
        "id": "13XrorC5wQoE",
        "outputId": "e9ee23e8-d5f2-4f4d-d418-831ff258dbc2"
      },
      "source": [
        "tf.keras.metrics.mean_absolute_error(x_valid, rnn_forecast).numpy()"
      ],
      "execution_count": null,
      "outputs": [
        {
          "output_type": "execute_result",
          "data": {
            "text/plain": [
              "0.24904515"
            ]
          },
          "metadata": {
            "tags": []
          },
          "execution_count": 17
        }
      ]
    },
    {
      "cell_type": "code",
      "metadata": {
        "colab": {
          "base_uri": "https://localhost:8080/",
          "height": 608
        },
        "id": "MD2kyYUVt3O0",
        "outputId": "e4fbd590-1e41-4d1e-8cbf-43dc5ab71ea5"
      },
      "source": [
        "import matplotlib.image  as mpimg\n",
        "import matplotlib.pyplot as plt\n",
        "\n",
        "#-----------------------------------------------------------\n",
        "# Retrieve a list of list results on training and test data\n",
        "# sets for each training epoch\n",
        "#-----------------------------------------------------------\n",
        "loss=history.history['loss']\n",
        "\n",
        "epochs=range(len(loss)) # Get number of epochs\n",
        "\n",
        "\n",
        "#------------------------------------------------\n",
        "# Plot training and validation loss per epoch\n",
        "#------------------------------------------------\n",
        "plt.plot(epochs, loss, 'r')\n",
        "plt.title('Training loss')\n",
        "plt.xlabel(\"Epochs\")\n",
        "plt.ylabel(\"Loss\")\n",
        "plt.legend([\"Loss\"])\n",
        "\n",
        "plt.figure()\n",
        "\n",
        "\n",
        "\n",
        "zoomed_loss = loss[50:]\n",
        "zoomed_epochs = range(50,100)\n",
        "\n",
        "\n",
        "#------------------------------------------------\n",
        "# Plot training and validation loss per epoch\n",
        "#------------------------------------------------\n",
        "plt.plot(zoomed_epochs, zoomed_loss, 'r')\n",
        "plt.title('Training loss')\n",
        "plt.xlabel(\"Epochs\")\n",
        "plt.ylabel(\"Loss\")\n",
        "plt.legend([\"Loss\"])\n",
        "\n",
        "plt.figure()"
      ],
      "execution_count": null,
      "outputs": [
        {
          "output_type": "execute_result",
          "data": {
            "text/plain": [
              "<Figure size 432x288 with 0 Axes>"
            ]
          },
          "metadata": {
            "tags": []
          },
          "execution_count": 18
        },
        {
          "output_type": "display_data",
          "data": {
            "image/png": "[encoded data removed]",
            "text/plain": [
              "<Figure size 432x288 with 1 Axes>"
            ]
          },
          "metadata": {
            "tags": [],
            "needs_background": "light"
          }
        },
        {
          "output_type": "display_data",
          "data": {
            "image/png": "[encoded data removed]",
            "text/plain": [
              "<Figure size 432x288 with 1 Axes>"
            ]
          },
          "metadata": {
            "tags": [],
            "needs_background": "light"
          }
        },
        {
          "output_type": "display_data",
          "data": {
            "text/plain": [
              "<Figure size 432x288 with 0 Axes>"
            ]
          },
          "metadata": {
            "tags": []
          }
        }
      ]
    },
    {
      "cell_type": "code",
      "metadata": {
        "colab": {
          "base_uri": "https://localhost:8080/"
        },
        "id": "AOVzQXxCwkzP",
        "outputId": "8c07f398-19cc-4f59-cacc-b4fd0b4e8cb6"
      },
      "source": [
        "print(rnn_forecast.shape, x_valid.shape)"
      ],
      "execution_count": null,
      "outputs": [
        {
          "output_type": "stream",
          "text": [
            "(698,) (698,)\n"
          ],
          "name": "stdout"
        }
      ]
    },
    {
      "cell_type": "code",
      "metadata": {
        "id": "0Etv0fJRPfss",
        "colab": {
          "base_uri": "https://localhost:8080/"
        },
        "outputId": "7bf7be1d-b059-4648-bc92-57d7ab58153c"
      },
      "source": [
        "print(rnn_forecast)"
      ],
      "execution_count": null,
      "outputs": [
        {
          "output_type": "stream",
          "text": [
            "[0.04146998 0.04259387 0.04486258 0.04674594 0.0496697  0.05051048\n",
            " 0.05037651 0.04964898 0.04864727 0.04755618 0.04648035 0.04547003\n",
            " 0.04456728 0.04377547 0.04309493 0.04251998 0.0420416  0.04164908\n",
            " 0.0413315  0.04107795 0.04087838 0.04072357 0.04060544 0.04051694\n",
            " 0.04272959 0.04633124 0.05005221 0.05660986 0.05824403 0.05799045\n",
            " 0.05674657 0.05836831 0.06159864 0.0653882  0.07496328 0.07536812\n",
            " 0.0734316  0.07037827 0.06695889 0.06353918 0.06029387 0.05730323\n",
            " 0.05459896 0.0521941  0.0500821  0.04825028 0.04668066 0.045352\n",
            " 0.04424106 0.04332391 0.04257663 0.04197622 0.04150112 0.04113143\n",
            " 0.08058979 0.14033608 0.17610376 0.24232537 0.15208772 0.12877163\n",
            " 0.13976409 0.14249462 0.14980459 0.15722036 0.15701067 0.15389627\n",
            " 0.15001716 0.14559771 0.13995764 0.13364588 0.12409795 0.10088593\n",
            " 0.08770012 0.07950384 0.07629126 0.0765617  0.07770129 0.08536325\n",
            " 0.08312199 0.07898783 0.07425439 0.06961677 0.06535184 0.06154547\n",
            " 0.05819741 0.05699683 0.05734626 0.05940246 0.0637226  0.06618723\n",
            " 0.07097266 0.07064833 0.07018878 0.07004231 0.06930848 0.07011921\n",
            " 0.06843551 0.06568567 0.0625224  0.05933613 0.0563334  0.05361459\n",
            " 0.05121897 0.04915065 0.04739421 0.04592386 0.0447089  0.04371733\n",
            " 0.04572824 0.04944858 0.0536559  0.06220303 0.0637518  0.06313588\n",
            " 0.06122879 0.05960914 0.05831338 0.05680893 0.05576375 0.05428038\n",
            " 0.06996597 0.09103511 0.11611269 0.1834596  0.1426861  0.1227575\n",
            " 0.11815225 0.12001663 0.12407643 0.12768206 0.12721291 0.12211535\n",
            " 0.10893806 0.10093893 0.09616235 0.09251928 0.09231863 0.08798757\n",
            " 0.08189185 0.07566776 0.06980583 0.06452882 0.05991488 0.05596546\n",
            " 0.05264223 0.04988615 0.04763585 0.05326525 0.06220427 0.0934362\n",
            " 0.13895166 0.16287795 0.20787378 0.15966663 0.16427761 0.1599536\n",
            " 0.15179303 0.17689453 0.1995943  0.24693467 0.24172592 0.25412732\n",
            " 0.27176785 0.27357462 0.28006536 0.23169386 0.21887678 0.26022637\n",
            " 0.1950752  0.17222515 0.18825741 0.1767195  0.1647131  0.16688712\n",
            " 0.1772331  0.18618736 0.185606   0.20478483 0.1923563  0.20034769\n",
            " 0.22812146 0.19488245 0.1883241  0.18599696 0.20552802 0.21728529\n",
            " 0.23047954 0.26179957 0.26743653 0.26976705 0.19509742 0.23722646\n",
            " 0.41649657 0.3486126  0.3492486  0.37069902 0.37766838 0.3673676\n",
            " 0.32165167 0.27967772 0.24232318 0.20877472 0.17913082 0.14859523\n",
            " 0.14272217 0.14349677 0.15451857 0.05250936 0.11187843 0.24039087\n",
            " 0.15926604 0.11726438 0.10447612 0.10244007 0.11512649 0.1283682\n",
            " 0.13215677 0.15780072 0.27516806 0.31081602 0.28843558 0.2998568\n",
            " 0.31937557 0.3006713  0.2622236  0.23439434 0.21059442 0.19068453\n",
            " 0.19003607 0.19186254 0.19397314 0.211349   0.17986272 0.1876229\n",
            " 0.26846415 0.24843717 0.21648414 0.23011653 0.24635449 0.26823318\n",
            " 0.2560162  0.2621648  0.2603162  0.2730761  0.33548573 0.31488335\n",
            " 0.2963481  0.33097485 0.3411277  0.3081095  0.27603203 0.2629217\n",
            " 0.25072905 0.23224913 0.21956298 0.21380377 0.20640506 0.19186302\n",
            " 0.18420443 0.18937808 0.18206903 0.16607334 0.1510862  0.1381208\n",
            " 0.1270291  0.11683911 0.11195242 0.10928892 0.11148956 0.12440588\n",
            " 0.12327895 0.12978563 0.13308665 0.14431778 0.17924973 0.16088137\n",
            " 0.14586559 0.14304684 0.14374046 0.14993623 0.1721816  0.18474151\n",
            " 0.16914561 0.16107027 0.17484199 0.18382502 0.20015153 0.2363787\n",
            " 0.19050768 0.16403034 0.14932272 0.14216754 0.13840537 0.13558282\n",
            " 0.13357805 0.1291446  0.11868075 0.10967261 0.10383524 0.10219365\n",
            " 0.09990394 0.1007757  0.09862716 0.1155334  0.144224   0.17377669\n",
            " 0.23810719 0.2337397  0.19829547 0.18808801 0.19212474 0.25134194\n",
            " 0.21539754 0.21700814 0.2717958  0.212589   0.18129513 0.16718206\n",
            " 0.1549257  0.15182783 0.14783822 0.16652806 0.21608947 0.2387625\n",
            " 0.239254   0.23724672 0.19864315 0.17631242 0.16132848 0.15303761\n",
            " 0.15070367 0.13740803 0.13082878 0.12726372 0.12557048 0.12705666\n",
            " 0.11518931 0.10586973 0.09709245 0.08814836 0.08042148 0.07413071\n",
            " 0.07496393 0.07920333 0.09199747 0.11679842 0.12172028 0.13557628\n",
            " 0.12654783 0.11928123 0.11364282 0.10927917 0.10497119 0.09626645\n",
            " 0.09010436 0.08590944 0.08214874 0.0805984  0.07701972 0.07271667\n",
            " 0.06826901 0.06402099 0.06014027 0.05662098 0.05359192 0.06554576\n",
            " 0.08207109 0.10434455 0.15488847 0.14785352 0.13922386 0.14642423\n",
            " 0.18008785 0.15929185 0.15258238 0.15448084 0.1632852  0.15286338\n",
            " 0.14731437 0.14419769 0.14153887 0.13354336 0.11935437 0.1046235\n",
            " 0.09927318 0.09941341 0.10084974 0.11198653 0.10871886 0.10221938\n",
            " 0.09610046 0.08925344 0.08240692 0.07598657 0.07016489 0.0650031\n",
            " 0.06050129 0.05662891 0.05333991 0.05058045 0.0482939  0.04642323\n",
            " 0.04489765 0.04369825 0.04273302 0.04371889 0.04603809 0.05905094\n",
            " 0.07670762 0.09655259 0.139988   0.12830146 0.118719   0.11222138\n",
            " 0.11132548 0.1089696  0.10699917 0.10254752 0.09458647 0.08714268\n",
            " 0.08027413 0.07402299 0.06841343 0.06531091 0.06408185 0.06317989\n",
            " 0.06472025 0.06768652 0.08736552 0.12919363 0.17818902 0.22953284\n",
            " 0.20968401 0.19134073 0.18105836 0.167473   0.15812543 0.15240553\n",
            " 0.14898024 0.13559796 0.12420613 0.10988857 0.09616572 0.08518104\n",
            " 0.07654121 0.06989282 0.07058875 0.07639705 0.09083694 0.11908884\n",
            " 0.13799301 0.1354203  0.14065027 0.14836493 0.16615856 0.19270568\n",
            " 0.17953788 0.17399818 0.17026153 0.19192663 0.2150464  0.18588386\n",
            " 0.16673844 0.15389235 0.14471723 0.1425861  0.14078099 0.16664883\n",
            " 0.18724217 0.2072165  0.27512428 0.21611089 0.23965524 0.28172654\n",
            " 0.24915461 0.21493307 0.1988764  0.18830292 0.18460752 0.18922845\n",
            " 0.17264211 0.16225836 0.16265595 0.15652063 0.15707897 0.18117827\n",
            " 0.18422265 0.19807148 0.20555095 0.23036    0.2773608  0.23002881\n",
            " 0.21355885 0.22189961 0.24750163 0.25306523 0.28649104 0.32052112\n",
            " 0.2898782  0.26693073 0.23837751 0.21812865 0.20271936 0.19598335\n",
            " 0.19115876 0.18742467 0.20908743 0.22029355 0.20592274 0.20837288\n",
            " 0.17926793 0.16221422 0.15419817 0.15830903 0.14008592 0.1478388\n",
            " 0.1535739  0.16474661 0.24586192 0.17969492 0.1779984  0.26377425\n",
            " 0.20658295 0.18671256 0.19069168 0.20944372 0.24074212 0.254975\n",
            " 0.27228728 0.29728076 0.31780052 0.33487406 0.332777   0.32388768\n",
            " 0.32136658 0.2747833  0.26624602 0.3157821  0.3098145  0.2933303\n",
            " 0.27566403 0.2519441  0.2561274  0.26168862 0.24885279 0.23406434\n",
            " 0.24783055 0.25969565 0.24964565 0.25346434 0.2294115  0.21688317\n",
            " 0.19984658 0.19215275 0.19030163 0.19338214 0.18238127 0.18436119\n",
            " 0.21955064 0.19854121 0.17519808 0.1602006  0.15538412 0.14441456\n",
            " 0.14754592 0.16352761 0.18384425 0.23583773 0.28991508 0.26024425\n",
            " 0.24413559 0.24998023 0.23952354 0.22437426 0.2238997  0.2229875\n",
            " 0.25237626 0.28109106 0.3202951  0.29100877 0.29654488 0.3895479\n",
            " 0.31810147 0.28129694 0.34352458 0.38285014 0.3860616  0.37668142\n",
            " 0.39637393 0.4059086  0.35927352 0.3196541  0.2879136  0.28945723\n",
            " 0.28824267 0.2579665  0.23717345 0.22464196 0.22562857 0.19159634\n",
            " 0.19549352 0.25717857 0.27125037 0.28208977 0.2636914  0.26377472\n",
            " 0.26079416 0.23086005 0.21077228 0.20752051 0.21480042 0.20876312\n",
            " 0.20030907 0.20854187 0.19901311 0.19645086 0.18202297 0.1753507\n",
            " 0.20110802 0.19995712 0.16867812 0.14932074 0.13753982 0.12941426\n",
            " 0.130883   0.1284845  0.12789999 0.12819909 0.12370696 0.11974654\n",
            " 0.11817358 0.1403079  0.15804526 0.16455781 0.19744696 0.16005857\n",
            " 0.1513386  0.14322482 0.13390647 0.13148259 0.1332958  0.13683102\n",
            " 0.15021852 0.16204613 0.1589547  0.1741199  0.17080224 0.17229794\n",
            " 0.18881506 0.16614586 0.14895448 0.1384619  0.14157955 0.14160049\n",
            " 0.15015149 0.18445513 0.19092971 0.16465366 0.16812494 0.16929117\n",
            " 0.1765467  0.21643382 0.17353317 0.15291807 0.14942624 0.13704368\n",
            " 0.1310008  0.12790163 0.12864682 0.13922042 0.14752384 0.16259149\n",
            " 0.18532734 0.15874319 0.1424046  0.13600676 0.13301453 0.1320048\n",
            " 0.13463293 0.12642862 0.11649423 0.16179815 0.1786146  0.1809576\n",
            " 0.25679696 0.13212909 0.0880652  0.14663437 0.12938106 0.1505828\n",
            " 0.15034011 0.14138979 0.14256066 0.1581595  0.14340562 0.15638974\n",
            " 0.1877518  0.15605691]\n"
          ],
          "name": "stdout"
        }
      ]
    },
    {
      "cell_type": "code",
      "metadata": {
        "id": "OwOLEJX9DyvO"
      },
      "source": [
        "import time\n",
        "saved_model_path = \"/tmp/saved_model/{}.h5\".format(int(time.time()))\n",
        "\n",
        "model.save(saved_model_path)"
      ],
      "execution_count": null,
      "outputs": []
    },
    {
      "cell_type": "code",
      "metadata": {
        "colab": {
          "base_uri": "https://localhost:8080/"
        },
        "id": "Rw0sgQmkBSdY",
        "outputId": "7fad9597-6730-4f4f-d892-f07c5de7939b"
      },
      "source": [
        "!tensorflowjs_converter --input_format=keras {saved_model_path} /tmp/converted_model"
      ],
      "execution_count": null,
      "outputs": [
        {
          "output_type": "stream",
          "text": [
            "2021-06-07 11:00:00.168031: I tensorflow/stream_executor/platform/default/dso_loader.cc:53] Successfully opened dynamic library libcudart.so.11.0\n"
          ],
          "name": "stdout"
        }
      ]
    },
    {
      "cell_type": "code",
      "metadata": {
        "id": "NttawkxrGF43"
      },
      "source": [
        ""
      ],
      "execution_count": null,
      "outputs": []
    }
  ]
}
