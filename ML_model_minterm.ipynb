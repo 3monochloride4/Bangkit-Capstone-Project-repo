{
  "nbformat": 4,
  "nbformat_minor": 0,
  "metadata": {
    "accelerator": "GPU",
    "colab": {
      "name": "ML_model_minterm.ipynb",
      "provenance": [],
      "collapsed_sections": [],
      "include_colab_link": true
    },
    "kernelspec": {
      "display_name": "Python 3",
      "name": "python3"
    }
  },
  "cells": [
    {
      "cell_type": "markdown",
      "metadata": {
        "id": "view-in-github",
        "colab_type": "text"
      },
      "source": [
        "<a href=\"https://colab.research.google.com/github/3monochloride4/Bangkit-Capstone-Project-repo/blob/main/ML_model_minterm.ipynb\" target=\"_parent\"><img src=\"https://colab.research.google.com/assets/colab-badge.svg\" alt=\"Open In Colab\"/></a>"
      ]
    },
    {
      "cell_type": "code",
      "metadata": {
        "colab": {
          "base_uri": "https://localhost:8080/"
        },
        "id": "56XEQOGknrAk",
        "outputId": "5fbcc422-1548-4b62-a93f-1dda5be2ea4b"
      },
      "source": [
        "import tensorflow as tf\n",
        "!pip install tensorflowjs"
      ],
      "execution_count": 4,
      "outputs": [
        {
          "output_type": "stream",
          "text": [
            "Requirement already satisfied: tensorflowjs in /usr/local/lib/python3.7/dist-packages (3.7.0)\n",
            "Requirement already satisfied: tensorflow-hub<0.13,>=0.7.0; python_version >= \"3\" in /usr/local/lib/python3.7/dist-packages (from tensorflowjs) (0.12.0)\n",
            "Requirement already satisfied: six<2,>=1.12.0 in /usr/local/lib/python3.7/dist-packages (from tensorflowjs) (1.15.0)\n",
            "Requirement already satisfied: tensorflow<3,>=2.1.0 in /usr/local/lib/python3.7/dist-packages (from tensorflowjs) (2.5.0)\n",
            "Requirement already satisfied: numpy>=1.12.0 in /usr/local/lib/python3.7/dist-packages (from tensorflow-hub<0.13,>=0.7.0; python_version >= \"3\"->tensorflowjs) (1.19.5)\n",
            "Requirement already satisfied: protobuf>=3.8.0 in /usr/local/lib/python3.7/dist-packages (from tensorflow-hub<0.13,>=0.7.0; python_version >= \"3\"->tensorflowjs) (3.12.4)\n",
            "Requirement already satisfied: keras-preprocessing~=1.1.2 in /usr/local/lib/python3.7/dist-packages (from tensorflow<3,>=2.1.0->tensorflowjs) (1.1.2)\n",
            "Requirement already satisfied: tensorflow-estimator<2.6.0,>=2.5.0rc0 in /usr/local/lib/python3.7/dist-packages (from tensorflow<3,>=2.1.0->tensorflowjs) (2.5.0)\n",
            "Requirement already satisfied: opt-einsum~=3.3.0 in /usr/local/lib/python3.7/dist-packages (from tensorflow<3,>=2.1.0->tensorflowjs) (3.3.0)\n",
            "Requirement already satisfied: wrapt~=1.12.1 in /usr/local/lib/python3.7/dist-packages (from tensorflow<3,>=2.1.0->tensorflowjs) (1.12.1)\n",
            "Requirement already satisfied: gast==0.4.0 in /usr/local/lib/python3.7/dist-packages (from tensorflow<3,>=2.1.0->tensorflowjs) (0.4.0)\n",
            "Requirement already satisfied: grpcio~=1.34.0 in /usr/local/lib/python3.7/dist-packages (from tensorflow<3,>=2.1.0->tensorflowjs) (1.34.1)\n",
            "Requirement already satisfied: astunparse~=1.6.3 in /usr/local/lib/python3.7/dist-packages (from tensorflow<3,>=2.1.0->tensorflowjs) (1.6.3)\n",
            "Requirement already satisfied: termcolor~=1.1.0 in /usr/local/lib/python3.7/dist-packages (from tensorflow<3,>=2.1.0->tensorflowjs) (1.1.0)\n",
            "Requirement already satisfied: absl-py~=0.10 in /usr/local/lib/python3.7/dist-packages (from tensorflow<3,>=2.1.0->tensorflowjs) (0.12.0)\n",
            "Requirement already satisfied: typing-extensions~=3.7.4 in /usr/local/lib/python3.7/dist-packages (from tensorflow<3,>=2.1.0->tensorflowjs) (3.7.4.3)\n",
            "Requirement already satisfied: flatbuffers~=1.12.0 in /usr/local/lib/python3.7/dist-packages (from tensorflow<3,>=2.1.0->tensorflowjs) (1.12)\n",
            "Requirement already satisfied: google-pasta~=0.2 in /usr/local/lib/python3.7/dist-packages (from tensorflow<3,>=2.1.0->tensorflowjs) (0.2.0)\n",
            "Requirement already satisfied: h5py~=3.1.0 in /usr/local/lib/python3.7/dist-packages (from tensorflow<3,>=2.1.0->tensorflowjs) (3.1.0)\n",
            "Requirement already satisfied: keras-nightly~=2.5.0.dev in /usr/local/lib/python3.7/dist-packages (from tensorflow<3,>=2.1.0->tensorflowjs) (2.5.0.dev2021032900)\n",
            "Requirement already satisfied: wheel~=0.35 in /usr/local/lib/python3.7/dist-packages (from tensorflow<3,>=2.1.0->tensorflowjs) (0.36.2)\n",
            "Requirement already satisfied: tensorboard~=2.5 in /usr/local/lib/python3.7/dist-packages (from tensorflow<3,>=2.1.0->tensorflowjs) (2.5.0)\n",
            "Requirement already satisfied: setuptools in /usr/local/lib/python3.7/dist-packages (from protobuf>=3.8.0->tensorflow-hub<0.13,>=0.7.0; python_version >= \"3\"->tensorflowjs) (57.0.0)\n",
            "Requirement already satisfied: cached-property; python_version < \"3.8\" in /usr/local/lib/python3.7/dist-packages (from h5py~=3.1.0->tensorflow<3,>=2.1.0->tensorflowjs) (1.5.2)\n",
            "Requirement already satisfied: google-auth-oauthlib<0.5,>=0.4.1 in /usr/local/lib/python3.7/dist-packages (from tensorboard~=2.5->tensorflow<3,>=2.1.0->tensorflowjs) (0.4.4)\n",
            "Requirement already satisfied: tensorboard-plugin-wit>=1.6.0 in /usr/local/lib/python3.7/dist-packages (from tensorboard~=2.5->tensorflow<3,>=2.1.0->tensorflowjs) (1.8.0)\n",
            "Requirement already satisfied: werkzeug>=0.11.15 in /usr/local/lib/python3.7/dist-packages (from tensorboard~=2.5->tensorflow<3,>=2.1.0->tensorflowjs) (1.0.1)\n",
            "Requirement already satisfied: markdown>=2.6.8 in /usr/local/lib/python3.7/dist-packages (from tensorboard~=2.5->tensorflow<3,>=2.1.0->tensorflowjs) (3.3.4)\n",
            "Requirement already satisfied: tensorboard-data-server<0.7.0,>=0.6.0 in /usr/local/lib/python3.7/dist-packages (from tensorboard~=2.5->tensorflow<3,>=2.1.0->tensorflowjs) (0.6.1)\n",
            "Requirement already satisfied: requests<3,>=2.21.0 in /usr/local/lib/python3.7/dist-packages (from tensorboard~=2.5->tensorflow<3,>=2.1.0->tensorflowjs) (2.23.0)\n",
            "Requirement already satisfied: google-auth<2,>=1.6.3 in /usr/local/lib/python3.7/dist-packages (from tensorboard~=2.5->tensorflow<3,>=2.1.0->tensorflowjs) (1.30.0)\n",
            "Requirement already satisfied: requests-oauthlib>=0.7.0 in /usr/local/lib/python3.7/dist-packages (from google-auth-oauthlib<0.5,>=0.4.1->tensorboard~=2.5->tensorflow<3,>=2.1.0->tensorflowjs) (1.3.0)\n",
            "Requirement already satisfied: importlib-metadata; python_version < \"3.8\" in /usr/local/lib/python3.7/dist-packages (from markdown>=2.6.8->tensorboard~=2.5->tensorflow<3,>=2.1.0->tensorflowjs) (4.0.1)\n",
            "Requirement already satisfied: idna<3,>=2.5 in /usr/local/lib/python3.7/dist-packages (from requests<3,>=2.21.0->tensorboard~=2.5->tensorflow<3,>=2.1.0->tensorflowjs) (2.10)\n",
            "Requirement already satisfied: urllib3!=1.25.0,!=1.25.1,<1.26,>=1.21.1 in /usr/local/lib/python3.7/dist-packages (from requests<3,>=2.21.0->tensorboard~=2.5->tensorflow<3,>=2.1.0->tensorflowjs) (1.24.3)\n",
            "Requirement already satisfied: certifi>=2017.4.17 in /usr/local/lib/python3.7/dist-packages (from requests<3,>=2.21.0->tensorboard~=2.5->tensorflow<3,>=2.1.0->tensorflowjs) (2020.12.5)\n",
            "Requirement already satisfied: chardet<4,>=3.0.2 in /usr/local/lib/python3.7/dist-packages (from requests<3,>=2.21.0->tensorboard~=2.5->tensorflow<3,>=2.1.0->tensorflowjs) (3.0.4)\n",
            "Requirement already satisfied: rsa<5,>=3.1.4; python_version >= \"3.6\" in /usr/local/lib/python3.7/dist-packages (from google-auth<2,>=1.6.3->tensorboard~=2.5->tensorflow<3,>=2.1.0->tensorflowjs) (4.7.2)\n",
            "Requirement already satisfied: pyasn1-modules>=0.2.1 in /usr/local/lib/python3.7/dist-packages (from google-auth<2,>=1.6.3->tensorboard~=2.5->tensorflow<3,>=2.1.0->tensorflowjs) (0.2.8)\n",
            "Requirement already satisfied: cachetools<5.0,>=2.0.0 in /usr/local/lib/python3.7/dist-packages (from google-auth<2,>=1.6.3->tensorboard~=2.5->tensorflow<3,>=2.1.0->tensorflowjs) (4.2.2)\n",
            "Requirement already satisfied: oauthlib>=3.0.0 in /usr/local/lib/python3.7/dist-packages (from requests-oauthlib>=0.7.0->google-auth-oauthlib<0.5,>=0.4.1->tensorboard~=2.5->tensorflow<3,>=2.1.0->tensorflowjs) (3.1.0)\n",
            "Requirement already satisfied: zipp>=0.5 in /usr/local/lib/python3.7/dist-packages (from importlib-metadata; python_version < \"3.8\"->markdown>=2.6.8->tensorboard~=2.5->tensorflow<3,>=2.1.0->tensorflowjs) (3.4.1)\n",
            "Requirement already satisfied: pyasn1>=0.1.3 in /usr/local/lib/python3.7/dist-packages (from rsa<5,>=3.1.4; python_version >= \"3.6\"->google-auth<2,>=1.6.3->tensorboard~=2.5->tensorflow<3,>=2.1.0->tensorflowjs) (0.4.8)\n"
          ],
          "name": "stdout"
        }
      ]
    },
    {
      "cell_type": "code",
      "metadata": {
        "id": "sLl52leVp5wU"
      },
      "source": [
        "import numpy as np\n",
        "import matplotlib.pyplot as plt\n",
        "def plot_series(time, series, format=\"-\", start=0, end=None):\n",
        "    plt.plot(time[start:end], series[start:end], format)\n",
        "    plt.xlabel(\"Time\")\n",
        "    plt.ylabel(\"Value\")\n",
        "    plt.grid(True)"
      ],
      "execution_count": 5,
      "outputs": []
    },
    {
      "cell_type": "code",
      "metadata": {
        "colab": {
          "base_uri": "https://localhost:8080/",
          "height": 387
        },
        "id": "NcG9r1eClbTh",
        "outputId": "993c83d2-569f-4341-c4e6-cd21ce2808df"
      },
      "source": [
        "import csv\n",
        "i=1\n",
        "time_step = []\n",
        "precipitation = []\n",
        "\n",
        "with open('/tmp/datasetCuacaSmg1957-2021fix.csv') as csvfile:\n",
        "  reader = csv.reader(csvfile, delimiter=',')\n",
        "  next(reader)\n",
        "  for row in reader:\n",
        "    precipitation.append(float(row[3]))\n",
        "    time_step.append(i)\n",
        "    i+=1\n",
        "\n",
        "series = np.array(precipitation)\n",
        "time = np.array(time_step)\n",
        "plt.figure(figsize=(10, 6))\n",
        "plot_series(time, series)"
      ],
      "execution_count": 6,
      "outputs": [
        {
          "output_type": "display_data",
          "data": {
            "image/png": "[encoded data removed]",
            "text/plain": [
              "<Figure size 720x432 with 1 Axes>"
            ]
          },
          "metadata": {
            "tags": [],
            "needs_background": "light"
          }
        }
      ]
    },
    {
      "cell_type": "code",
      "metadata": {
        "id": "L92YRw_IpCFG"
      },
      "source": [
        "split_time = 13000\n",
        "time_train = time[:split_time]\n",
        "x_train = series[:split_time]\n",
        "time_valid = time[split_time:]\n",
        "x_valid = series[split_time:]\n",
        "\n",
        "window_size = 30\n",
        "batch_size = 32\n",
        "shuffle_buffer_size = 1000\n"
      ],
      "execution_count": 7,
      "outputs": []
    },
    {
      "cell_type": "code",
      "metadata": {
        "id": "lJwUUZscnG38"
      },
      "source": [
        "def windowed_dataset(series, window_size, batch_size, shuffle_buffer):\n",
        "    series = tf.expand_dims(series, axis=-1)\n",
        "    ds = tf.data.Dataset.from_tensor_slices(series)\n",
        "    ds = ds.window(window_size + 1, shift=1, drop_remainder=True)\n",
        "    ds = ds.flat_map(lambda w: w.batch(window_size + 1))\n",
        "    ds = ds.shuffle(shuffle_buffer)\n",
        "    ds = ds.map(lambda w: (w[:-1], w[1:]))\n",
        "    return ds.batch(batch_size).prefetch(1)"
      ],
      "execution_count": 8,
      "outputs": []
    },
    {
      "cell_type": "code",
      "metadata": {
        "id": "4XwGrf-A_wF0"
      },
      "source": [
        "def model_forecast(model, series, window_size):\n",
        "    ds = tf.data.Dataset.from_tensor_slices(series)\n",
        "    ds = ds.window(window_size, shift=1, drop_remainder=True)\n",
        "    ds = ds.flat_map(lambda w: w.batch(window_size))\n",
        "    ds = ds.batch(32).prefetch(1)\n",
        "    forecast = model.predict(ds)\n",
        "    return forecast"
      ],
      "execution_count": 9,
      "outputs": []
    },
    {
      "cell_type": "code",
      "metadata": {
        "colab": {
          "base_uri": "https://localhost:8080/"
        },
        "id": "AclfYY3Mn6Ph",
        "outputId": "4aa3357b-075f-4d11-f615-6fd58a92f2b6"
      },
      "source": [
        "tf.keras.backend.clear_session()\n",
        "tf.random.set_seed(51)\n",
        "np.random.seed(51)\n",
        "window_size = 80\n",
        "batch_size = 200\n",
        "train_set = windowed_dataset(x_train, window_size, batch_size, shuffle_buffer_size)\n",
        "print(train_set)\n",
        "print(x_train.shape)\n",
        "\n",
        "model = tf.keras.models.Sequential([\n",
        "  tf.keras.layers.Conv1D(filters=32, kernel_size=5,\n",
        "                      strides=1, padding=\"causal\",\n",
        "                      activation=\"relu\",\n",
        "                      input_shape=[None, 1]),\n",
        "  tf.keras.layers.LSTM(64, return_sequences=True),\n",
        "  tf.keras.layers.LSTM(64, return_sequences=True),\n",
        "  tf.keras.layers.Dense(30, activation=\"relu\"),\n",
        "  tf.keras.layers.Dense(10, activation=\"relu\"),\n",
        "  tf.keras.layers.Dense(1),\n",
        "  tf.keras.layers.Lambda(lambda x: x * 400)\n",
        "])\n",
        "\n",
        "lr_schedule = tf.keras.callbacks.LearningRateScheduler(\n",
        "    lambda epoch: 1e-8 * 10**(epoch / 20))\n",
        "optimizer = tf.keras.optimizers.SGD(lr=1e-8, momentum=0.9)\n",
        "model.compile(loss=tf.keras.losses.Huber(),\n",
        "              optimizer=optimizer,\n",
        "              metrics=[\"mae\"])\n",
        "history = model.fit(train_set, epochs=100, callbacks=[lr_schedule])\n"
      ],
      "execution_count": 10,
      "outputs": [
        {
          "output_type": "stream",
          "text": [
            "<PrefetchDataset shapes: ((None, None, 1), (None, None, 1)), types: (tf.float64, tf.float64)>\n",
            "(13000,)\n"
          ],
          "name": "stdout"
        },
        {
          "output_type": "stream",
          "text": [
            "/usr/local/lib/python3.7/dist-packages/tensorflow/python/keras/optimizer_v2/optimizer_v2.py:375: UserWarning: The `lr` argument is deprecated, use `learning_rate` instead.\n",
            "  \"The `lr` argument is deprecated, use `learning_rate` instead.\")\n"
          ],
          "name": "stderr"
        },
        {
          "output_type": "stream",
          "text": [
            "Epoch 1/100\n",
            "65/65 [==============================] - 36s 34ms/step - loss: 49.8368 - mae: 50.3368\n",
            "Epoch 2/100\n",
            "65/65 [==============================] - 2s 34ms/step - loss: 24.4392 - mae: 24.9392\n",
            "Epoch 3/100\n",
            "65/65 [==============================] - 2s 34ms/step - loss: 5.1697 - mae: 5.6290\n",
            "Epoch 4/100\n",
            "65/65 [==============================] - 2s 33ms/step - loss: 3.9526 - mae: 4.3972\n",
            "Epoch 5/100\n",
            "65/65 [==============================] - 2s 34ms/step - loss: 3.8937 - mae: 4.3374\n",
            "Epoch 6/100\n",
            "65/65 [==============================] - 2s 34ms/step - loss: 3.8405 - mae: 4.2841\n",
            "Epoch 7/100\n",
            "65/65 [==============================] - 2s 34ms/step - loss: 3.7842 - mae: 4.2277\n",
            "Epoch 8/100\n",
            "65/65 [==============================] - 2s 34ms/step - loss: 3.7239 - mae: 4.1674\n",
            "Epoch 9/100\n",
            "65/65 [==============================] - 2s 34ms/step - loss: 3.6586 - mae: 4.1017\n",
            "Epoch 10/100\n",
            "65/65 [==============================] - 2s 33ms/step - loss: 3.5864 - mae: 4.0291\n",
            "Epoch 11/100\n",
            "65/65 [==============================] - 2s 34ms/step - loss: 3.5060 - mae: 3.9480\n",
            "Epoch 12/100\n",
            "65/65 [==============================] - 2s 34ms/step - loss: 3.4182 - mae: 3.8594\n",
            "Epoch 13/100\n",
            "65/65 [==============================] - 2s 33ms/step - loss: 3.3232 - mae: 3.7634\n",
            "Epoch 14/100\n",
            "65/65 [==============================] - 2s 34ms/step - loss: 3.2224 - mae: 3.6618\n",
            "Epoch 15/100\n",
            "65/65 [==============================] - 2s 34ms/step - loss: 3.1125 - mae: 3.5504\n",
            "Epoch 16/100\n",
            "65/65 [==============================] - 2s 34ms/step - loss: 2.9809 - mae: 3.4161\n",
            "Epoch 17/100\n",
            "65/65 [==============================] - 2s 34ms/step - loss: 2.8656 - mae: 3.2997\n",
            "Epoch 18/100\n",
            "65/65 [==============================] - 2s 33ms/step - loss: 2.7882 - mae: 3.2222\n",
            "Epoch 19/100\n",
            "65/65 [==============================] - 2s 34ms/step - loss: 2.7306 - mae: 3.1649\n",
            "Epoch 20/100\n",
            "65/65 [==============================] - 2s 34ms/step - loss: 2.6878 - mae: 3.1222\n",
            "Epoch 21/100\n",
            "65/65 [==============================] - 2s 34ms/step - loss: 2.6446 - mae: 3.0793\n",
            "Epoch 22/100\n",
            "65/65 [==============================] - 2s 34ms/step - loss: 2.5987 - mae: 3.0334\n",
            "Epoch 23/100\n",
            "65/65 [==============================] - 2s 33ms/step - loss: 2.5477 - mae: 2.9819\n",
            "Epoch 24/100\n",
            "65/65 [==============================] - 2s 33ms/step - loss: 2.4953 - mae: 2.9293\n",
            "Epoch 25/100\n",
            "65/65 [==============================] - 2s 34ms/step - loss: 2.4425 - mae: 2.8764\n",
            "Epoch 26/100\n",
            "65/65 [==============================] - 2s 33ms/step - loss: 2.3881 - mae: 2.8214\n",
            "Epoch 27/100\n",
            "65/65 [==============================] - 2s 34ms/step - loss: 2.3347 - mae: 2.7681\n",
            "Epoch 28/100\n",
            "65/65 [==============================] - 2s 34ms/step - loss: 2.2749 - mae: 2.7077\n",
            "Epoch 29/100\n",
            "65/65 [==============================] - 2s 34ms/step - loss: 2.2154 - mae: 2.6483\n",
            "Epoch 30/100\n",
            "65/65 [==============================] - 2s 34ms/step - loss: 2.1522 - mae: 2.5847\n",
            "Epoch 31/100\n",
            "65/65 [==============================] - 2s 33ms/step - loss: 2.0865 - mae: 2.5187\n",
            "Epoch 32/100\n",
            "65/65 [==============================] - 2s 34ms/step - loss: 2.0207 - mae: 2.4528\n",
            "Epoch 33/100\n",
            "65/65 [==============================] - 2s 34ms/step - loss: 1.9653 - mae: 2.3968\n",
            "Epoch 34/100\n",
            "65/65 [==============================] - 2s 33ms/step - loss: 1.9242 - mae: 2.3554\n",
            "Epoch 35/100\n",
            "65/65 [==============================] - 2s 33ms/step - loss: 1.8898 - mae: 2.3209\n",
            "Epoch 36/100\n",
            "65/65 [==============================] - 2s 34ms/step - loss: 1.8627 - mae: 2.2936\n",
            "Epoch 37/100\n",
            "65/65 [==============================] - 2s 33ms/step - loss: 1.8285 - mae: 2.2592\n",
            "Epoch 38/100\n",
            "65/65 [==============================] - 2s 34ms/step - loss: 1.7828 - mae: 2.2129\n",
            "Epoch 39/100\n",
            "65/65 [==============================] - 2s 34ms/step - loss: 1.7443 - mae: 2.1739\n",
            "Epoch 40/100\n",
            "65/65 [==============================] - 2s 34ms/step - loss: 1.7009 - mae: 2.1306\n",
            "Epoch 41/100\n",
            "65/65 [==============================] - 2s 34ms/step - loss: 1.6430 - mae: 2.0721\n",
            "Epoch 42/100\n",
            "65/65 [==============================] - 2s 33ms/step - loss: 1.6064 - mae: 2.0362\n",
            "Epoch 43/100\n",
            "65/65 [==============================] - 2s 33ms/step - loss: 1.5461 - mae: 1.9759\n",
            "Epoch 44/100\n",
            "65/65 [==============================] - 2s 33ms/step - loss: 1.4996 - mae: 1.9290\n",
            "Epoch 45/100\n",
            "65/65 [==============================] - 2s 34ms/step - loss: 1.4855 - mae: 1.9156\n",
            "Epoch 46/100\n",
            "65/65 [==============================] - 2s 35ms/step - loss: 1.4966 - mae: 1.9289\n",
            "Epoch 47/100\n",
            "65/65 [==============================] - 2s 33ms/step - loss: 1.4483 - mae: 1.8797\n",
            "Epoch 48/100\n",
            "65/65 [==============================] - 2s 33ms/step - loss: 1.4247 - mae: 1.8565\n",
            "Epoch 49/100\n",
            "65/65 [==============================] - 2s 34ms/step - loss: 1.5795 - mae: 2.0191\n",
            "Epoch 50/100\n",
            "65/65 [==============================] - 2s 35ms/step - loss: 1.5200 - mae: 1.9600\n",
            "Epoch 51/100\n",
            "65/65 [==============================] - 2s 35ms/step - loss: 1.6353 - mae: 2.0814\n",
            "Epoch 52/100\n",
            "65/65 [==============================] - 2s 34ms/step - loss: 1.7161 - mae: 2.1687\n",
            "Epoch 53/100\n",
            "65/65 [==============================] - 2s 34ms/step - loss: 1.7997 - mae: 2.2552\n",
            "Epoch 54/100\n",
            "65/65 [==============================] - 2s 34ms/step - loss: 1.8425 - mae: 2.2968\n",
            "Epoch 55/100\n",
            "65/65 [==============================] - 2s 34ms/step - loss: 2.0889 - mae: 2.5523\n",
            "Epoch 56/100\n",
            "65/65 [==============================] - 2s 33ms/step - loss: 2.1278 - mae: 2.5903\n",
            "Epoch 57/100\n",
            "65/65 [==============================] - 2s 34ms/step - loss: 2.4952 - mae: 2.9631\n",
            "Epoch 58/100\n",
            "65/65 [==============================] - 2s 34ms/step - loss: 2.8404 - mae: 3.3115\n",
            "Epoch 59/100\n",
            "65/65 [==============================] - 2s 34ms/step - loss: 3.6825 - mae: 4.1505\n",
            "Epoch 60/100\n",
            "65/65 [==============================] - 2s 34ms/step - loss: 1.9510 - mae: 2.4077\n",
            "Epoch 61/100\n",
            "65/65 [==============================] - 2s 34ms/step - loss: 2.0307 - mae: 2.4918\n",
            "Epoch 62/100\n",
            "65/65 [==============================] - 2s 34ms/step - loss: 2.1579 - mae: 2.6206\n",
            "Epoch 63/100\n",
            "65/65 [==============================] - 2s 34ms/step - loss: 2.2684 - mae: 2.7367\n",
            "Epoch 64/100\n",
            "65/65 [==============================] - 2s 33ms/step - loss: 2.5084 - mae: 2.9700\n",
            "Epoch 65/100\n",
            "65/65 [==============================] - 2s 34ms/step - loss: 2.2511 - mae: 2.7202\n",
            "Epoch 66/100\n",
            "65/65 [==============================] - 2s 34ms/step - loss: 2.1837 - mae: 2.6502\n",
            "Epoch 67/100\n",
            "65/65 [==============================] - 2s 34ms/step - loss: 4.3973 - mae: 4.8704\n",
            "Epoch 68/100\n",
            "65/65 [==============================] - 2s 34ms/step - loss: 10.2854 - mae: 10.7794\n",
            "Epoch 69/100\n",
            "65/65 [==============================] - 2s 34ms/step - loss: 7.6747 - mae: 8.1719\n",
            "Epoch 70/100\n",
            "65/65 [==============================] - 2s 33ms/step - loss: 6.3444 - mae: 6.8404\n",
            "Epoch 71/100\n",
            "65/65 [==============================] - 2s 35ms/step - loss: 6.5933 - mae: 7.0897\n",
            "Epoch 72/100\n",
            "65/65 [==============================] - 2s 35ms/step - loss: 2.2165 - mae: 2.6700\n",
            "Epoch 73/100\n",
            "65/65 [==============================] - 2s 34ms/step - loss: 1.4952 - mae: 1.9370\n",
            "Epoch 74/100\n",
            "65/65 [==============================] - 2s 34ms/step - loss: 1.6425 - mae: 2.0872\n",
            "Epoch 75/100\n",
            "65/65 [==============================] - 2s 34ms/step - loss: 3.1327 - mae: 3.6041\n",
            "Epoch 76/100\n",
            "65/65 [==============================] - 2s 34ms/step - loss: 2.2950 - mae: 2.7576\n",
            "Epoch 77/100\n",
            "65/65 [==============================] - 2s 34ms/step - loss: 2.2496 - mae: 2.7138\n",
            "Epoch 78/100\n",
            "65/65 [==============================] - 2s 34ms/step - loss: 2.8569 - mae: 3.3267\n",
            "Epoch 79/100\n",
            "65/65 [==============================] - 2s 34ms/step - loss: 15.5224 - mae: 16.0175\n",
            "Epoch 80/100\n",
            "65/65 [==============================] - 2s 33ms/step - loss: 13.0140 - mae: 13.5052\n",
            "Epoch 81/100\n",
            "65/65 [==============================] - 2s 34ms/step - loss: 7.7669 - mae: 8.2658\n",
            "Epoch 82/100\n",
            "65/65 [==============================] - 2s 34ms/step - loss: 8.8946 - mae: 9.3942\n",
            "Epoch 83/100\n",
            "65/65 [==============================] - 2s 34ms/step - loss: 9.9804 - mae: 10.4798\n",
            "Epoch 84/100\n",
            "65/65 [==============================] - 2s 35ms/step - loss: 11.3001 - mae: 11.7999\n",
            "Epoch 85/100\n",
            "65/65 [==============================] - 2s 34ms/step - loss: 12.8133 - mae: 13.3130\n",
            "Epoch 86/100\n",
            "65/65 [==============================] - 2s 34ms/step - loss: 14.4557 - mae: 14.9557\n",
            "Epoch 87/100\n",
            "65/65 [==============================] - 2s 34ms/step - loss: 16.1222 - mae: 16.6219\n",
            "Epoch 88/100\n",
            "65/65 [==============================] - 2s 34ms/step - loss: 18.2343 - mae: 18.7342\n",
            "Epoch 89/100\n",
            "65/65 [==============================] - 2s 34ms/step - loss: 26.6514 - mae: 27.1467\n",
            "Epoch 90/100\n",
            "65/65 [==============================] - 2s 34ms/step - loss: 43.3960 - mae: 43.8946\n",
            "Epoch 91/100\n",
            "65/65 [==============================] - 2s 34ms/step - loss: 63.4152 - mae: 63.9133\n",
            "Epoch 92/100\n",
            "65/65 [==============================] - 2s 33ms/step - loss: 29.1117 - mae: 29.6116\n",
            "Epoch 93/100\n",
            "65/65 [==============================] - 2s 33ms/step - loss: 32.9189 - mae: 33.4189\n",
            "Epoch 94/100\n",
            "65/65 [==============================] - 2s 34ms/step - loss: 61.9117 - mae: 62.4095\n",
            "Epoch 95/100\n",
            "65/65 [==============================] - 2s 34ms/step - loss: 41.6786 - mae: 42.1779\n",
            "Epoch 96/100\n",
            "65/65 [==============================] - 2s 35ms/step - loss: 88.2544 - mae: 88.7538\n",
            "Epoch 97/100\n",
            "65/65 [==============================] - 2s 33ms/step - loss: 107.1578 - mae: 107.6568\n",
            "Epoch 98/100\n",
            "65/65 [==============================] - 2s 35ms/step - loss: 59.1301 - mae: 59.6301\n",
            "Epoch 99/100\n",
            "65/65 [==============================] - 2s 34ms/step - loss: 66.4758 - mae: 66.9758\n",
            "Epoch 100/100\n",
            "65/65 [==============================] - 2s 34ms/step - loss: 101.7043 - mae: 102.2033\n"
          ],
          "name": "stdout"
        }
      ]
    },
    {
      "cell_type": "code",
      "metadata": {
        "colab": {
          "base_uri": "https://localhost:8080/",
          "height": 291
        },
        "id": "vVcKmg7Q_7rD",
        "outputId": "4a0abeff-1d6e-4933-978e-9e417af01466"
      },
      "source": [
        "plt.semilogx(history.history[\"lr\"], history.history[\"loss\"])\n",
        "plt.axis([1e-8, 1e-4, 0, 20])"
      ],
      "execution_count": 11,
      "outputs": [
        {
          "output_type": "execute_result",
          "data": {
            "text/plain": [
              "(1e-08, 0.0001, 0.0, 20.0)"
            ]
          },
          "metadata": {
            "tags": []
          },
          "execution_count": 11
        },
        {
          "output_type": "display_data",
          "data": {
            "image/png": "[encoded data removed]",
            "text/plain": [
              "<Figure size 432x288 with 1 Axes>"
            ]
          },
          "metadata": {
            "tags": [],
            "needs_background": "light"
          }
        }
      ]
    },
    {
      "cell_type": "code",
      "metadata": {
        "colab": {
          "base_uri": "https://localhost:8080/"
        },
        "id": "QsksvkcXAAgq",
        "outputId": "c31b69f7-61a5-4bd4-f078-acea173e5a52"
      },
      "source": [
        "tf.keras.backend.clear_session()\n",
        "tf.random.set_seed(51)\n",
        "np.random.seed(51)\n",
        "train_set = windowed_dataset(x_train, window_size=80, batch_size=200, shuffle_buffer=shuffle_buffer_size)\n",
        "model = tf.keras.models.Sequential([\n",
        "  tf.keras.layers.Conv1D(filters=60, kernel_size=5,\n",
        "                      strides=1, padding=\"causal\",\n",
        "                      activation=\"relu\",\n",
        "                      input_shape=[None, 1]),\n",
        "  tf.keras.layers.LSTM(60, return_sequences=True),\n",
        "  tf.keras.layers.LSTM(60, return_sequences=True),\n",
        "  tf.keras.layers.Dense(30, activation=\"relu\"),\n",
        "  tf.keras.layers.Dense(10, activation=\"relu\"),\n",
        "  tf.keras.layers.Dense(1),\n",
        "  tf.keras.layers.Lambda(lambda x: x * 400)\n",
        "])\n",
        "\n",
        "\n",
        "optimizer = tf.keras.optimizers.SGD(lr=1e-6, momentum=0.9)\n",
        "model.compile(loss=tf.keras.losses.Huber(),\n",
        "              optimizer=optimizer,\n",
        "              metrics=[\"mae\", 'accuracy'])\n",
        "history = model.fit(train_set,epochs=100)"
      ],
      "execution_count": 20,
      "outputs": [
        {
          "output_type": "stream",
          "text": [
            "/usr/local/lib/python3.7/dist-packages/tensorflow/python/keras/optimizer_v2/optimizer_v2.py:375: UserWarning: The `lr` argument is deprecated, use `learning_rate` instead.\n",
            "  \"The `lr` argument is deprecated, use `learning_rate` instead.\")\n"
          ],
          "name": "stderr"
        },
        {
          "output_type": "stream",
          "text": [
            "Epoch 1/100\n",
            "65/65 [==============================] - 5s 33ms/step - loss: 10.4806 - mae: 10.9488 - accuracy: 0.0000e+00\n",
            "Epoch 2/100\n",
            "65/65 [==============================] - 2s 33ms/step - loss: 2.5637 - mae: 3.0024 - accuracy: 0.0000e+00\n",
            "Epoch 3/100\n",
            "65/65 [==============================] - 2s 34ms/step - loss: 2.2950 - mae: 2.7331 - accuracy: 0.0000e+00\n",
            "Epoch 4/100\n",
            "65/65 [==============================] - 2s 34ms/step - loss: 2.1481 - mae: 2.5859 - accuracy: 0.0000e+00\n",
            "Epoch 5/100\n",
            "65/65 [==============================] - 2s 34ms/step - loss: 2.0381 - mae: 2.4757 - accuracy: 0.0000e+00\n",
            "Epoch 6/100\n",
            "65/65 [==============================] - 2s 34ms/step - loss: 1.9355 - mae: 2.3726 - accuracy: 0.0000e+00\n",
            "Epoch 7/100\n",
            "65/65 [==============================] - 2s 34ms/step - loss: 1.8402 - mae: 2.2766 - accuracy: 0.0000e+00\n",
            "Epoch 8/100\n",
            "65/65 [==============================] - 2s 35ms/step - loss: 1.7536 - mae: 2.1901 - accuracy: 0.0000e+00\n",
            "Epoch 9/100\n",
            "65/65 [==============================] - 2s 34ms/step - loss: 1.6633 - mae: 2.0998 - accuracy: 0.0000e+00\n",
            "Epoch 10/100\n",
            "65/65 [==============================] - 2s 33ms/step - loss: 1.5779 - mae: 2.0134 - accuracy: 0.0000e+00\n",
            "Epoch 11/100\n",
            "65/65 [==============================] - 2s 34ms/step - loss: 1.5140 - mae: 1.9483 - accuracy: 0.0000e+00\n",
            "Epoch 12/100\n",
            "65/65 [==============================] - 2s 35ms/step - loss: 1.4704 - mae: 1.9037 - accuracy: 0.0000e+00\n",
            "Epoch 13/100\n",
            "65/65 [==============================] - 2s 34ms/step - loss: 1.4313 - mae: 1.8640 - accuracy: 0.0000e+00\n",
            "Epoch 14/100\n",
            "65/65 [==============================] - 2s 33ms/step - loss: 1.4073 - mae: 1.8404 - accuracy: 0.0000e+00\n",
            "Epoch 15/100\n",
            "65/65 [==============================] - 2s 34ms/step - loss: 1.3805 - mae: 1.8126 - accuracy: 0.0000e+00\n",
            "Epoch 16/100\n",
            "65/65 [==============================] - 2s 34ms/step - loss: 1.3565 - mae: 1.7892 - accuracy: 0.0000e+00\n",
            "Epoch 17/100\n",
            "65/65 [==============================] - 2s 34ms/step - loss: 1.3317 - mae: 1.7638 - accuracy: 0.0000e+00\n",
            "Epoch 18/100\n",
            "65/65 [==============================] - 2s 34ms/step - loss: 1.3180 - mae: 1.7503 - accuracy: 0.0000e+00\n",
            "Epoch 19/100\n",
            "65/65 [==============================] - 2s 34ms/step - loss: 1.2943 - mae: 1.7254 - accuracy: 0.0000e+00\n",
            "Epoch 20/100\n",
            "65/65 [==============================] - 2s 34ms/step - loss: 1.2814 - mae: 1.7119 - accuracy: 0.0000e+00\n",
            "Epoch 21/100\n",
            "65/65 [==============================] - 2s 33ms/step - loss: 1.2713 - mae: 1.7025 - accuracy: 0.0000e+00\n",
            "Epoch 22/100\n",
            "65/65 [==============================] - 2s 34ms/step - loss: 1.2567 - mae: 1.6869 - accuracy: 0.0000e+00\n",
            "Epoch 23/100\n",
            "65/65 [==============================] - 2s 34ms/step - loss: 1.2466 - mae: 1.6764 - accuracy: 0.0000e+00\n",
            "Epoch 24/100\n",
            "65/65 [==============================] - 2s 35ms/step - loss: 1.2408 - mae: 1.6703 - accuracy: 0.0000e+00\n",
            "Epoch 25/100\n",
            "65/65 [==============================] - 2s 34ms/step - loss: 1.2359 - mae: 1.6649 - accuracy: 0.0000e+00\n",
            "Epoch 26/100\n",
            "65/65 [==============================] - 2s 34ms/step - loss: 1.2296 - mae: 1.6585 - accuracy: 0.0000e+00\n",
            "Epoch 27/100\n",
            "65/65 [==============================] - 2s 34ms/step - loss: 1.2254 - mae: 1.6541 - accuracy: 0.0000e+00\n",
            "Epoch 28/100\n",
            "65/65 [==============================] - 2s 34ms/step - loss: 1.2303 - mae: 1.6594 - accuracy: 0.0000e+00\n",
            "Epoch 29/100\n",
            "65/65 [==============================] - 2s 34ms/step - loss: 1.2180 - mae: 1.6468 - accuracy: 0.0000e+00\n",
            "Epoch 30/100\n",
            "65/65 [==============================] - 2s 34ms/step - loss: 1.2097 - mae: 1.6377 - accuracy: 0.0000e+00\n",
            "Epoch 31/100\n",
            "65/65 [==============================] - 2s 33ms/step - loss: 1.2072 - mae: 1.6346 - accuracy: 0.0000e+00\n",
            "Epoch 32/100\n",
            "65/65 [==============================] - 2s 34ms/step - loss: 1.2049 - mae: 1.6330 - accuracy: 0.0000e+00\n",
            "Epoch 33/100\n",
            "65/65 [==============================] - 2s 34ms/step - loss: 1.2013 - mae: 1.6291 - accuracy: 0.0000e+00\n",
            "Epoch 34/100\n",
            "65/65 [==============================] - 2s 34ms/step - loss: 1.1968 - mae: 1.6245 - accuracy: 0.0000e+00\n",
            "Epoch 35/100\n",
            "65/65 [==============================] - 2s 34ms/step - loss: 1.1889 - mae: 1.6158 - accuracy: 0.0000e+00\n",
            "Epoch 36/100\n",
            "65/65 [==============================] - 2s 34ms/step - loss: 1.1903 - mae: 1.6175 - accuracy: 0.0000e+00\n",
            "Epoch 37/100\n",
            "65/65 [==============================] - 2s 33ms/step - loss: 1.1901 - mae: 1.6173 - accuracy: 0.0000e+00\n",
            "Epoch 38/100\n",
            "65/65 [==============================] - 2s 33ms/step - loss: 1.1864 - mae: 1.6136 - accuracy: 0.0000e+00\n",
            "Epoch 39/100\n",
            "65/65 [==============================] - 2s 33ms/step - loss: 1.1804 - mae: 1.6072 - accuracy: 0.0000e+00\n",
            "Epoch 40/100\n",
            "65/65 [==============================] - 2s 33ms/step - loss: 1.1795 - mae: 1.6063 - accuracy: 0.0000e+00\n",
            "Epoch 41/100\n",
            "65/65 [==============================] - 2s 34ms/step - loss: 1.1784 - mae: 1.6051 - accuracy: 0.0000e+00\n",
            "Epoch 42/100\n",
            "65/65 [==============================] - 2s 34ms/step - loss: 1.1775 - mae: 1.6041 - accuracy: 0.0000e+00\n",
            "Epoch 43/100\n",
            "65/65 [==============================] - 2s 34ms/step - loss: 1.1744 - mae: 1.6005 - accuracy: 0.0000e+00\n",
            "Epoch 44/100\n",
            "65/65 [==============================] - 2s 34ms/step - loss: 1.1712 - mae: 1.5975 - accuracy: 0.0000e+00\n",
            "Epoch 45/100\n",
            "65/65 [==============================] - 2s 34ms/step - loss: 1.1657 - mae: 1.5915 - accuracy: 0.0000e+00\n",
            "Epoch 46/100\n",
            "65/65 [==============================] - 2s 34ms/step - loss: 1.1617 - mae: 1.5872 - accuracy: 0.0000e+00\n",
            "Epoch 47/100\n",
            "65/65 [==============================] - 2s 34ms/step - loss: 1.1627 - mae: 1.5883 - accuracy: 0.0000e+00\n",
            "Epoch 48/100\n",
            "65/65 [==============================] - 2s 35ms/step - loss: 1.1599 - mae: 1.5856 - accuracy: 0.0000e+00\n",
            "Epoch 49/100\n",
            "65/65 [==============================] - 2s 35ms/step - loss: 1.1576 - mae: 1.5827 - accuracy: 0.0000e+00\n",
            "Epoch 50/100\n",
            "65/65 [==============================] - 2s 33ms/step - loss: 1.1567 - mae: 1.5821 - accuracy: 0.0000e+00\n",
            "Epoch 51/100\n",
            "65/65 [==============================] - 2s 34ms/step - loss: 1.1575 - mae: 1.5827 - accuracy: 0.0000e+00\n",
            "Epoch 52/100\n",
            "65/65 [==============================] - 2s 35ms/step - loss: 1.1513 - mae: 1.5758 - accuracy: 0.0000e+00\n",
            "Epoch 53/100\n",
            "65/65 [==============================] - 2s 35ms/step - loss: 1.1483 - mae: 1.5727 - accuracy: 0.0000e+00\n",
            "Epoch 54/100\n",
            "65/65 [==============================] - 2s 33ms/step - loss: 1.1508 - mae: 1.5756 - accuracy: 0.0000e+00\n",
            "Epoch 55/100\n",
            "65/65 [==============================] - 2s 34ms/step - loss: 1.1487 - mae: 1.5733 - accuracy: 0.0000e+00\n",
            "Epoch 56/100\n",
            "65/65 [==============================] - 2s 35ms/step - loss: 1.1482 - mae: 1.5730 - accuracy: 0.0000e+00\n",
            "Epoch 57/100\n",
            "65/65 [==============================] - 2s 34ms/step - loss: 1.1487 - mae: 1.5732 - accuracy: 0.0000e+00\n",
            "Epoch 58/100\n",
            "65/65 [==============================] - 2s 34ms/step - loss: 1.1479 - mae: 1.5720 - accuracy: 0.0000e+00\n",
            "Epoch 59/100\n",
            "65/65 [==============================] - 2s 35ms/step - loss: 1.1441 - mae: 1.5684 - accuracy: 0.0000e+00\n",
            "Epoch 60/100\n",
            "65/65 [==============================] - 2s 35ms/step - loss: 1.1469 - mae: 1.5713 - accuracy: 0.0000e+00\n",
            "Epoch 61/100\n",
            "65/65 [==============================] - 2s 35ms/step - loss: 1.1419 - mae: 1.5658 - accuracy: 0.0000e+00\n",
            "Epoch 62/100\n",
            "65/65 [==============================] - 2s 35ms/step - loss: 1.1412 - mae: 1.5654 - accuracy: 0.0000e+00\n",
            "Epoch 63/100\n",
            "65/65 [==============================] - 2s 33ms/step - loss: 1.1432 - mae: 1.5673 - accuracy: 0.0000e+00\n",
            "Epoch 64/100\n",
            "65/65 [==============================] - 2s 35ms/step - loss: 1.1401 - mae: 1.5640 - accuracy: 0.0000e+00\n",
            "Epoch 65/100\n",
            "65/65 [==============================] - 2s 35ms/step - loss: 1.1390 - mae: 1.5627 - accuracy: 0.0000e+00\n",
            "Epoch 66/100\n",
            "65/65 [==============================] - 2s 34ms/step - loss: 1.1409 - mae: 1.5646 - accuracy: 0.0000e+00\n",
            "Epoch 67/100\n",
            "65/65 [==============================] - 2s 33ms/step - loss: 1.1414 - mae: 1.5655 - accuracy: 0.0000e+00\n",
            "Epoch 68/100\n",
            "65/65 [==============================] - 2s 35ms/step - loss: 1.1356 - mae: 1.5592 - accuracy: 0.0000e+00\n",
            "Epoch 69/100\n",
            "65/65 [==============================] - 2s 35ms/step - loss: 1.1373 - mae: 1.5611 - accuracy: 0.0000e+00\n",
            "Epoch 70/100\n",
            "65/65 [==============================] - 2s 34ms/step - loss: 1.1353 - mae: 1.5588 - accuracy: 0.0000e+00\n",
            "Epoch 71/100\n",
            "65/65 [==============================] - 2s 34ms/step - loss: 1.1357 - mae: 1.5591 - accuracy: 0.0000e+00\n",
            "Epoch 72/100\n",
            "65/65 [==============================] - 2s 34ms/step - loss: 1.1331 - mae: 1.5565 - accuracy: 0.0000e+00\n",
            "Epoch 73/100\n",
            "65/65 [==============================] - 2s 35ms/step - loss: 1.1353 - mae: 1.5587 - accuracy: 0.0000e+00\n",
            "Epoch 74/100\n",
            "65/65 [==============================] - 2s 34ms/step - loss: 1.1304 - mae: 1.5535 - accuracy: 0.0000e+00\n",
            "Epoch 75/100\n",
            "65/65 [==============================] - 2s 35ms/step - loss: 1.1356 - mae: 1.5590 - accuracy: 0.0000e+00\n",
            "Epoch 76/100\n",
            "65/65 [==============================] - 2s 34ms/step - loss: 1.1320 - mae: 1.5551 - accuracy: 0.0000e+00\n",
            "Epoch 77/100\n",
            "65/65 [==============================] - 2s 35ms/step - loss: 1.1342 - mae: 1.5574 - accuracy: 0.0000e+00\n",
            "Epoch 78/100\n",
            "65/65 [==============================] - 2s 35ms/step - loss: 1.1325 - mae: 1.5558 - accuracy: 0.0000e+00\n",
            "Epoch 79/100\n",
            "65/65 [==============================] - 2s 34ms/step - loss: 1.1302 - mae: 1.5534 - accuracy: 0.0000e+00\n",
            "Epoch 80/100\n",
            "65/65 [==============================] - 2s 34ms/step - loss: 1.1277 - mae: 1.5505 - accuracy: 0.0000e+00\n",
            "Epoch 81/100\n",
            "65/65 [==============================] - 2s 34ms/step - loss: 1.1328 - mae: 1.5560 - accuracy: 0.0000e+00\n",
            "Epoch 82/100\n",
            "65/65 [==============================] - 2s 34ms/step - loss: 1.1297 - mae: 1.5526 - accuracy: 0.0000e+00\n",
            "Epoch 83/100\n",
            "65/65 [==============================] - 2s 34ms/step - loss: 1.1339 - mae: 1.5575 - accuracy: 0.0000e+00\n",
            "Epoch 84/100\n",
            "65/65 [==============================] - 2s 35ms/step - loss: 1.1310 - mae: 1.5540 - accuracy: 0.0000e+00\n",
            "Epoch 85/100\n",
            "65/65 [==============================] - 2s 35ms/step - loss: 1.1289 - mae: 1.5517 - accuracy: 0.0000e+00\n",
            "Epoch 86/100\n",
            "65/65 [==============================] - 2s 34ms/step - loss: 1.1298 - mae: 1.5529 - accuracy: 0.0000e+00\n",
            "Epoch 87/100\n",
            "65/65 [==============================] - 2s 34ms/step - loss: 1.1282 - mae: 1.5510 - accuracy: 0.0000e+00\n",
            "Epoch 88/100\n",
            "65/65 [==============================] - 2s 34ms/step - loss: 1.1324 - mae: 1.5559 - accuracy: 0.0000e+00\n",
            "Epoch 89/100\n",
            "65/65 [==============================] - 2s 35ms/step - loss: 1.1267 - mae: 1.5494 - accuracy: 0.0000e+00\n",
            "Epoch 90/100\n",
            "65/65 [==============================] - 2s 35ms/step - loss: 1.1261 - mae: 1.5488 - accuracy: 0.0000e+00\n",
            "Epoch 91/100\n",
            "65/65 [==============================] - 2s 34ms/step - loss: 1.1254 - mae: 1.5481 - accuracy: 0.0000e+00\n",
            "Epoch 92/100\n",
            "65/65 [==============================] - 2s 34ms/step - loss: 1.1226 - mae: 1.5448 - accuracy: 0.0000e+00\n",
            "Epoch 93/100\n",
            "65/65 [==============================] - 2s 35ms/step - loss: 1.1233 - mae: 1.5458 - accuracy: 0.0000e+00\n",
            "Epoch 94/100\n",
            "65/65 [==============================] - 2s 35ms/step - loss: 1.1214 - mae: 1.5437 - accuracy: 0.0000e+00\n",
            "Epoch 95/100\n",
            "65/65 [==============================] - 2s 34ms/step - loss: 1.1228 - mae: 1.5449 - accuracy: 0.0000e+00\n",
            "Epoch 96/100\n",
            "65/65 [==============================] - 2s 34ms/step - loss: 1.1268 - mae: 1.5494 - accuracy: 0.0000e+00\n",
            "Epoch 97/100\n",
            "65/65 [==============================] - 2s 35ms/step - loss: 1.1283 - mae: 1.5513 - accuracy: 0.0000e+00\n",
            "Epoch 98/100\n",
            "65/65 [==============================] - 2s 34ms/step - loss: 1.1261 - mae: 1.5489 - accuracy: 0.0000e+00\n",
            "Epoch 99/100\n",
            "65/65 [==============================] - 2s 34ms/step - loss: 1.1237 - mae: 1.5462 - accuracy: 0.0000e+00\n",
            "Epoch 100/100\n",
            "65/65 [==============================] - 2s 34ms/step - loss: 1.1208 - mae: 1.5430 - accuracy: 0.0000e+00\n"
          ],
          "name": "stdout"
        }
      ]
    },
    {
      "cell_type": "code",
      "metadata": {
        "colab": {
          "base_uri": "https://localhost:8080/"
        },
        "id": "GaC6NNMRp0lb",
        "outputId": "d8e9ca48-0b6e-4b77-800e-e0711aee43fc"
      },
      "source": [
        "rnn_forecast = model_forecast(model, series[..., np.newaxis], 60)\n",
        "print(rnn_forecast.shape)\n",
        "rnn_forecast = rnn_forecast[split_time-60:-1, -1, 0]\n",
        "print(rnn_forecast.shape)"
      ],
      "execution_count": 21,
      "outputs": [
        {
          "output_type": "stream",
          "text": [
            "(15639, 60, 1)\n",
            "(2698,)\n"
          ],
          "name": "stdout"
        }
      ]
    },
    {
      "cell_type": "code",
      "metadata": {
        "colab": {
          "base_uri": "https://localhost:8080/",
          "height": 387
        },
        "id": "PrktQX3hKYex",
        "outputId": "01b06d23-d5a1-483b-f519-676753f00b8f"
      },
      "source": [
        "plt.figure(figsize=(10, 6))\n",
        "plot_series(time_valid, x_valid)\n",
        "plot_series(time_valid, rnn_forecast)"
      ],
      "execution_count": 22,
      "outputs": [
        {
          "output_type": "display_data",
          "data": {
            "image/png": "[encoded data removed]",
            "text/plain": [
              "<Figure size 720x432 with 1 Axes>"
            ]
          },
          "metadata": {
            "tags": [],
            "needs_background": "light"
          }
        }
      ]
    },
    {
      "cell_type": "code",
      "metadata": {
        "colab": {
          "base_uri": "https://localhost:8080/"
        },
        "id": "13XrorC5wQoE",
        "outputId": "2e9094d0-dc38-444f-afb2-d9ba1232a69e"
      },
      "source": [
        "tf.keras.metrics.mean_absolute_error(x_valid, rnn_forecast).numpy()"
      ],
      "execution_count": 23,
      "outputs": [
        {
          "output_type": "execute_result",
          "data": {
            "text/plain": [
              "1.2396287"
            ]
          },
          "metadata": {
            "tags": []
          },
          "execution_count": 23
        }
      ]
    },
    {
      "cell_type": "code",
      "metadata": {
        "colab": {
          "base_uri": "https://localhost:8080/",
          "height": 608
        },
        "id": "MD2kyYUVt3O0",
        "outputId": "37d28064-e5a2-4984-85f9-da30eaa7fadb"
      },
      "source": [
        "import matplotlib.image  as mpimg\n",
        "import matplotlib.pyplot as plt\n",
        "\n",
        "#-----------------------------------------------------------\n",
        "# Retrieve a list of list results on training and test data\n",
        "# sets for each training epoch\n",
        "#-----------------------------------------------------------\n",
        "loss=history.history['loss']\n",
        "\n",
        "epochs=range(len(loss)) # Get number of epochs\n",
        "\n",
        "\n",
        "#------------------------------------------------\n",
        "# Plot training and validation loss per epoch\n",
        "#------------------------------------------------\n",
        "plt.plot(epochs, loss, 'r')\n",
        "plt.title('Training loss')\n",
        "plt.xlabel(\"Epochs\")\n",
        "plt.ylabel(\"Loss\")\n",
        "plt.legend([\"Loss\"])\n",
        "\n",
        "plt.figure()\n",
        "\n",
        "\n",
        "\n",
        "zoomed_loss = loss[50:]\n",
        "zoomed_epochs = range(50,100)\n",
        "\n",
        "\n",
        "#------------------------------------------------\n",
        "# Plot training and validation loss per epoch\n",
        "#------------------------------------------------\n",
        "plt.plot(zoomed_epochs, zoomed_loss, 'r')\n",
        "plt.title('Training loss')\n",
        "plt.xlabel(\"Epochs\")\n",
        "plt.ylabel(\"Loss\")\n",
        "plt.legend([\"Loss\"])\n",
        "\n",
        "plt.figure()"
      ],
      "execution_count": 24,
      "outputs": [
        {
          "output_type": "execute_result",
          "data": {
            "text/plain": [
              "<Figure size 432x288 with 0 Axes>"
            ]
          },
          "metadata": {
            "tags": []
          },
          "execution_count": 24
        },
        {
          "output_type": "display_data",
          "data": {
            "image/png": "[encoded data removed]",
            "text/plain": [
              "<Figure size 432x288 with 1 Axes>"
            ]
          },
          "metadata": {
            "tags": [],
            "needs_background": "light"
          }
        },
        {
          "output_type": "display_data",
          "data": {
            "image/png": "[encoded data removed]",
            "text/plain": [
              "<Figure size 432x288 with 1 Axes>"
            ]
          },
          "metadata": {
            "tags": [],
            "needs_background": "light"
          }
        },
        {
          "output_type": "display_data",
          "data": {
            "text/plain": [
              "<Figure size 432x288 with 0 Axes>"
            ]
          },
          "metadata": {
            "tags": []
          }
        }
      ]
    },
    {
      "cell_type": "code",
      "metadata": {
        "colab": {
          "base_uri": "https://localhost:8080/"
        },
        "id": "AOVzQXxCwkzP",
        "outputId": "d1536054-d376-493c-df64-f15117f930a5"
      },
      "source": [
        "print(rnn_forecast.shape, x_valid.shape)"
      ],
      "execution_count": 25,
      "outputs": [
        {
          "output_type": "stream",
          "text": [
            "(2698,) (2698,)\n"
          ],
          "name": "stdout"
        }
      ]
    },
    {
      "cell_type": "code",
      "metadata": {
        "id": "0Etv0fJRPfss",
        "colab": {
          "base_uri": "https://localhost:8080/"
        },
        "outputId": "639355de-e056-4821-bd1c-ec5da8a27eb5"
      },
      "source": [
        "print(rnn_forecast)"
      ],
      "execution_count": 26,
      "outputs": [
        {
          "output_type": "stream",
          "text": [
            "[75.37376 75.3749  75.67906 ... 76.53773 76.94933 77.03516]\n"
          ],
          "name": "stdout"
        }
      ]
    },
    {
      "cell_type": "code",
      "metadata": {
        "id": "OwOLEJX9DyvO"
      },
      "source": [
        "import time\n",
        "saved_model_path = \"/tmp/saved_model/{}.h5\".format(int(time.time()))\n",
        "\n",
        "model.save(saved_model_path)"
      ],
      "execution_count": 27,
      "outputs": []
    },
    {
      "cell_type": "code",
      "metadata": {
        "colab": {
          "base_uri": "https://localhost:8080/"
        },
        "id": "Rw0sgQmkBSdY",
        "outputId": "beb9a237-19ba-4395-9e2c-fbb0bd160ce5"
      },
      "source": [
        "!tensorflowjs_converter --input_format=keras {saved_model_path} /tmp/converted_model_minterm"
      ],
      "execution_count": 28,
      "outputs": [
        {
          "output_type": "stream",
          "text": [
            "2021-06-07 13:35:24.555828: I tensorflow/stream_executor/platform/default/dso_loader.cc:53] Successfully opened dynamic library libcudart.so.11.0\n"
          ],
          "name": "stdout"
        }
      ]
    },
    {
      "cell_type": "code",
      "metadata": {
        "id": "NttawkxrGF43"
      },
      "source": [
        ""
      ],
      "execution_count": null,
      "outputs": []
    }
  ]
}